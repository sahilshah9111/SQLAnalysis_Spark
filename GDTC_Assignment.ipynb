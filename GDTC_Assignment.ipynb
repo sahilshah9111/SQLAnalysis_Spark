{
  "nbformat": 4,
  "nbformat_minor": 0,
  "metadata": {
    "colab": {
      "name": "GDTC_Assignment.ipynb",
      "provenance": [],
      "authorship_tag": "ABX9TyMYdtUBgl1Ype8rPeBvGSV9",
      "include_colab_link": true
    },
    "kernelspec": {
      "name": "python3",
      "display_name": "Python 3"
    },
    "language_info": {
      "name": "python"
    }
  },
  "cells": [
    {
      "cell_type": "markdown",
      "metadata": {
        "id": "view-in-github",
        "colab_type": "text"
      },
      "source": [
        "<a href=\"https://colab.research.google.com/github/sahilshah9111/SQLAnalysis_Spark/blob/main/GDTC_Assignment.ipynb\" target=\"_parent\"><img src=\"https://colab.research.google.com/assets/colab-badge.svg\" alt=\"Open In Colab\"/></a>"
      ]
    },
    {
      "cell_type": "markdown",
      "source": [
        "**SECTION 1: ENVIRONMENT SETUP AND DATA LOADING**"
      ],
      "metadata": {
        "id": "Ymfovkm5u_Qr"
      }
    },
    {
      "cell_type": "code",
      "execution_count": null,
      "metadata": {
        "id": "35FbreNyu4N8"
      },
      "outputs": [],
      "source": [
        "!apt-get install openjdk-8-jdk-headless -qq > /dev/null"
      ]
    },
    {
      "cell_type": "code",
      "source": [
        "!wget -q https://archive.apache.org/dist/spark/spark-3.1.2/spark-3.1.2-bin-hadoop2.7.tgz"
      ],
      "metadata": {
        "id": "ofKnCZvOvehl"
      },
      "execution_count": null,
      "outputs": []
    },
    {
      "cell_type": "code",
      "source": [
        "!tar xf spark-3.1.2-bin-hadoop2.7.tgz"
      ],
      "metadata": {
        "id": "ZRgk9bckvyRE"
      },
      "execution_count": null,
      "outputs": []
    },
    {
      "cell_type": "code",
      "source": [
        "import os\n",
        "os.environ[\"JAVA_HOME\"] = \"/usr/lib/jvm/java-8-openjdk-amd64\"\n",
        "os.environ[\"SPARK_HOME\"] = \"/content/spark-3.1.2-bin-hadoop2.7\""
      ],
      "metadata": {
        "id": "jMaWU_Fxv063"
      },
      "execution_count": null,
      "outputs": []
    },
    {
      "cell_type": "code",
      "source": [
        "!pip install -q findspark\n",
        "import findspark\n",
        "findspark.init()"
      ],
      "metadata": {
        "id": "Xa74WW--v3wb"
      },
      "execution_count": null,
      "outputs": []
    },
    {
      "cell_type": "code",
      "source": [
        "from pyspark.sql import SparkSession\n",
        "spark = (SparkSession.builder.appName(\"DE_Analysis\").getOrCreate())"
      ],
      "metadata": {
        "id": "qkjsZM72v5-R"
      },
      "execution_count": null,
      "outputs": []
    },
    {
      "cell_type": "code",
      "source": [
        "ins = spark.read.csv(header = True, inferSchema = True, path = 'insurance_data.csv')\n",
        "ins.printSchema()\n",
        "ins.show(3)"
      ],
      "metadata": {
        "colab": {
          "base_uri": "https://localhost:8080/"
        },
        "id": "haFqEZPH6M9-",
        "outputId": "aa4ac0c3-a4a1-45ee-a602-456e1d7f626d"
      },
      "execution_count": null,
      "outputs": [
        {
          "output_type": "stream",
          "name": "stdout",
          "text": [
            "root\n",
            " |-- TXN_DATE_TIME: string (nullable = true)\n",
            " |-- TRANSACTION_ID: string (nullable = true)\n",
            " |-- CUSTOMER_ID: string (nullable = true)\n",
            " |-- POLICY_NUMBER: string (nullable = true)\n",
            " |-- POLICY_EFF_DT: string (nullable = true)\n",
            " |-- LOSS_DT: string (nullable = true)\n",
            " |-- REPORT_DT: string (nullable = true)\n",
            " |-- INSURANCE_TYPE: string (nullable = true)\n",
            " |-- PREMIUM_AMOUNT: double (nullable = true)\n",
            " |-- CLAIM_AMOUNT: integer (nullable = true)\n",
            " |-- CUSTOMER_NAME: string (nullable = true)\n",
            " |-- ADDRESS_LINE1: string (nullable = true)\n",
            " |-- ADDRESS_LINE2: string (nullable = true)\n",
            " |-- CITY: string (nullable = true)\n",
            " |-- STATE: string (nullable = true)\n",
            " |-- POSTAL_CODE: integer (nullable = true)\n",
            " |-- SSN: string (nullable = true)\n",
            " |-- MARITAL_STATUS: string (nullable = true)\n",
            " |-- AGE: integer (nullable = true)\n",
            " |-- TENURE: integer (nullable = true)\n",
            " |-- EMPLOYMENT_STATUS: string (nullable = true)\n",
            " |-- NO_OF_FAMILY_MEMBERS: integer (nullable = true)\n",
            " |-- RISK_SEGMENTATION: string (nullable = true)\n",
            " |-- HOUSE_TYPE: string (nullable = true)\n",
            " |-- SOCIAL_CLASS: string (nullable = true)\n",
            " |-- ROUTING_NUMBER: integer (nullable = true)\n",
            " |-- ACCT_NUMBER: string (nullable = true)\n",
            " |-- CUSTOMER_EDUCATION_LEVEL: string (nullable = true)\n",
            " |-- CLAIM_STATUS: string (nullable = true)\n",
            " |-- INCIDENT_SEVERITY: string (nullable = true)\n",
            " |-- AUTHORITY_CONTACTED: string (nullable = true)\n",
            " |-- ANY_INJURY: integer (nullable = true)\n",
            " |-- POLICE_REPORT_AVAILABLE: integer (nullable = true)\n",
            " |-- INCIDENT_STATE: string (nullable = true)\n",
            " |-- INCIDENT_CITY: string (nullable = true)\n",
            " |-- INCIDENT_HOUR_OF_THE_DAY: integer (nullable = true)\n",
            " |-- AGENT_ID: string (nullable = true)\n",
            " |-- VENDOR_ID: string (nullable = true)\n",
            "\n",
            "+-------------------+--------------+-----------+-------------+-------------+----------+----------+--------------+--------------+------------+--------------------+--------------------+-------------+--------+-----+-----------+-----------+--------------+---+------+-----------------+--------------------+-----------------+----------+------------+--------------+------------------+------------------------+------------+-----------------+-------------------+----------+-----------------------+--------------+--------------+------------------------+----------+---------+\n",
            "|      TXN_DATE_TIME|TRANSACTION_ID|CUSTOMER_ID|POLICY_NUMBER|POLICY_EFF_DT|   LOSS_DT| REPORT_DT|INSURANCE_TYPE|PREMIUM_AMOUNT|CLAIM_AMOUNT|       CUSTOMER_NAME|       ADDRESS_LINE1|ADDRESS_LINE2|    CITY|STATE|POSTAL_CODE|        SSN|MARITAL_STATUS|AGE|TENURE|EMPLOYMENT_STATUS|NO_OF_FAMILY_MEMBERS|RISK_SEGMENTATION|HOUSE_TYPE|SOCIAL_CLASS|ROUTING_NUMBER|       ACCT_NUMBER|CUSTOMER_EDUCATION_LEVEL|CLAIM_STATUS|INCIDENT_SEVERITY|AUTHORITY_CONTACTED|ANY_INJURY|POLICE_REPORT_AVAILABLE|INCIDENT_STATE| INCIDENT_CITY|INCIDENT_HOUR_OF_THE_DAY|  AGENT_ID|VENDOR_ID|\n",
            "+-------------------+--------------+-----------+-------------+-------------+----------+----------+--------------+--------------+------------+--------------------+--------------------+-------------+--------+-----+-----------+-----------+--------------+---+------+-----------------+--------------------+-----------------+----------+------------+--------------+------------------+------------------------+------------+-----------------+-------------------+----------+-----------------------+--------------+--------------+------------------------+----------+---------+\n",
            "|2020-06-01 00:00:00|   TXN00000001|  A00003822|  PLC00008468|   2015-06-23|2020-05-16|2020-05-21|        Health|        157.13|        9000|Christopher Demarest|7701 West Saint J...|        #2010|Glendale|   AZ|      85308|087-11-1946|             Y| 54|    89|                Y|                   3|                L|       Own|          LI|     109134974|HXJP58258181908465|                Bachelor|           A|       Major Loss|             Police|         0|                      1|            GA|      Savannah|                       4|AGENT00413|VNDR00556|\n",
            "|2020-06-01 00:00:00|   TXN00000002|  A00008149|  PLC00009594|   2018-04-21|2020-05-13|2020-05-18|      Property|        141.71|       26000|      Ricardo Gatlin|8595 West 81st Drive|         null|  Arvada|   CO|      80005|685-33-3536|             N| 61|    80|                Y|                   4|                L|      Rent|          MI|      40125819|JUND46859540983731|                Bachelor|           A|       Total Loss|          Ambulance|         1|                      0|            AL|    Montgomery|                       0|AGENT00769|VNDR00592|\n",
            "|2020-06-01 00:00:00|   TXN00000003|  A00003172|  PLC00007969|   2019-10-03|2020-05-21|2020-05-26|      Property|        157.24|       13000|      Lashawn Engles| 637 Britannia Drive|         null| Vallejo|   CA|      94591|378-36-0672|             N| 47|    68|                Y|                   6|                L|      Rent|          MI|      99513168|WGZZ90128415227650|                     PhD|           A|       Total Loss|             Police|         0|                      1|            CO|Grand Junction|                      19|AGENT00883|VNDR00031|\n",
            "+-------------------+--------------+-----------+-------------+-------------+----------+----------+--------------+--------------+------------+--------------------+--------------------+-------------+--------+-----+-----------+-----------+--------------+---+------+-----------------+--------------------+-----------------+----------+------------+--------------+------------------+------------------------+------------+-----------------+-------------------+----------+-----------------------+--------------+--------------+------------------------+----------+---------+\n",
            "only showing top 3 rows\n",
            "\n"
          ]
        }
      ]
    },
    {
      "cell_type": "code",
      "source": [
        "emp = spark.read.csv(header = True, inferSchema = True, path = 'employee_data.csv')\n",
        "emp.printSchema()\n",
        "emp.show(5)"
      ],
      "metadata": {
        "colab": {
          "base_uri": "https://localhost:8080/"
        },
        "id": "lU_oVaRHCKr4",
        "outputId": "b100dd32-78dc-48db-9653-3c38e3772b31"
      },
      "execution_count": null,
      "outputs": [
        {
          "output_type": "stream",
          "name": "stdout",
          "text": [
            "root\n",
            " |-- AGENT_ID: string (nullable = true)\n",
            " |-- AGENT_NAME: string (nullable = true)\n",
            " |-- DATE_OF_JOINING: string (nullable = true)\n",
            " |-- ADDRESS_LINE1: string (nullable = true)\n",
            " |-- ADDRESS_LINE2: string (nullable = true)\n",
            " |-- CITY: string (nullable = true)\n",
            " |-- STATE: string (nullable = true)\n",
            " |-- POSTAL_CODE: integer (nullable = true)\n",
            " |-- EMP_ROUTING_NUMBER: integer (nullable = true)\n",
            " |-- EMP_ACCT_NUMBER: string (nullable = true)\n",
            "\n",
            "+----------+--------------+---------------+--------------------+-------------+----------------+-----+-----------+------------------+------------------+\n",
            "|  AGENT_ID|    AGENT_NAME|DATE_OF_JOINING|       ADDRESS_LINE1|ADDRESS_LINE2|            CITY|STATE|POSTAL_CODE|EMP_ROUTING_NUMBER|   EMP_ACCT_NUMBER|\n",
            "+----------+--------------+---------------+--------------------+-------------+----------------+-----+-----------+------------------+------------------+\n",
            "|AGENT00001|     Ray Johns|     1993-06-05|    1402 Maggies Way|         null|Waterbury Center|   VT|       5677|          34584958|HKUN51252328472585|\n",
            "|AGENT00002| Angelo Borjon|     2005-12-27|      414 Tanya Pass|         null|     Panama City|   FL|      32404|         107363763|OPIS19290040088204|\n",
            "|AGENT00003|Candy Spellman|     2003-09-02| 606 National Street|         #306|    Fayetteville|   AR|      72701|          81744097|YSCJ67489688482590|\n",
            "|AGENT00004|    Mary Smith|     2004-09-23|235 Hugh Thomas D...|         null|     Panama City|   FL|      32404|          67563771|ZANG21285355574581|\n",
            "|AGENT00005|  Mildred Diaz|     2011-06-21|3426 Broadview St...|         null|      Montgomery|   AL|      36110|         114951317|DZFS82244494451134|\n",
            "+----------+--------------+---------------+--------------------+-------------+----------------+-----+-----------+------------------+------------------+\n",
            "only showing top 5 rows\n",
            "\n"
          ]
        }
      ]
    },
    {
      "cell_type": "code",
      "source": [
        "emp = emp.withColumnRenamed(\"ADDRESS_LINE1\",\"EMP_ADDRESS_LINE1\") \\\n",
        "    .withColumnRenamed(\"ADDRESS_LINE2\",\"EMP_ADDRESS_LINE2\") \\\n",
        "    .withColumnRenamed(\"CITY\",\"EMP_CITY\") \\\n",
        "    .withColumnRenamed(\"STATE\",\"EMP_STATE\") \\\n",
        "    .withColumnRenamed(\"POSTAL_CODE\",\"EMP_POSTAL_CODE\")\n",
        "emp.printSchema()\n"
      ],
      "metadata": {
        "colab": {
          "base_uri": "https://localhost:8080/"
        },
        "id": "NUvbFrbtZXZo",
        "outputId": "dd12a0c0-959f-4477-902c-7ee3a619e113"
      },
      "execution_count": null,
      "outputs": [
        {
          "output_type": "stream",
          "name": "stdout",
          "text": [
            "root\n",
            " |-- AGENT_ID: string (nullable = true)\n",
            " |-- AGENT_NAME: string (nullable = true)\n",
            " |-- DATE_OF_JOINING: string (nullable = true)\n",
            " |-- EMP_ADDRESS_LINE1: string (nullable = true)\n",
            " |-- EMP_ADDRESS_LINE2: string (nullable = true)\n",
            " |-- EMP_CITY: string (nullable = true)\n",
            " |-- EMP_STATE: string (nullable = true)\n",
            " |-- EMP_POSTAL_CODE: integer (nullable = true)\n",
            " |-- EMP_ROUTING_NUMBER: integer (nullable = true)\n",
            " |-- EMP_ACCT_NUMBER: string (nullable = true)\n",
            "\n"
          ]
        }
      ]
    },
    {
      "cell_type": "code",
      "source": [
        "vend = spark.read.csv(header = True, inferSchema = True, path = 'vendor_data.csv')\n",
        "vend.printSchema()\n",
        "vend.show(5)"
      ],
      "metadata": {
        "colab": {
          "base_uri": "https://localhost:8080/"
        },
        "id": "eVKjs5dMCKhS",
        "outputId": "2b1f0d8a-a9e0-4a5d-ab93-3b17e0c6f317"
      },
      "execution_count": null,
      "outputs": [
        {
          "output_type": "stream",
          "name": "stdout",
          "text": [
            "root\n",
            " |-- VENDOR_ID: string (nullable = true)\n",
            " |-- VENDOR_NAME: string (nullable = true)\n",
            " |-- ADDRESS_LINE1: string (nullable = true)\n",
            " |-- ADDRESS_LINE2: string (nullable = true)\n",
            " |-- CITY: string (nullable = true)\n",
            " |-- STATE: string (nullable = true)\n",
            " |-- POSTAL_CODE: integer (nullable = true)\n",
            "\n",
            "+---------+--------------------+--------------------+-------------+------------+-----+-----------+\n",
            "|VENDOR_ID|         VENDOR_NAME|       ADDRESS_LINE1|ADDRESS_LINE2|        CITY|STATE|POSTAL_CODE|\n",
            "+---------+--------------------+--------------------+-------------+------------+-----+-----------+\n",
            "|VNDR00001|King, Proctor and...|2027 North Shanno...|           #5|Fayetteville|   AR|      72703|\n",
            "|VNDR00002|          Garcia Ltd|5701 East Shirley...|         null|  Montgomery|   AL|      36117|\n",
            "|VNDR00003|          Cherry LLC|1217 Cottondale Road|         null|  Montgomery|   AL|      36109|\n",
            "|VNDR00004|         Mays-Benson|227 West Montgome...|         #736|    Savannah|   GA|      31406|\n",
            "|VNDR00005|          Wilson PLC|23 North Hill Street|         null|   Nashville|   TN|      37210|\n",
            "+---------+--------------------+--------------------+-------------+------------+-----+-----------+\n",
            "only showing top 5 rows\n",
            "\n"
          ]
        }
      ]
    },
    {
      "cell_type": "code",
      "source": [
        "vend = vend.withColumnRenamed(\"ADDRESS_LINE1\",\"VENDOR_ADDRESS_LINE1\") \\\n",
        "    .withColumnRenamed(\"ADDRESS_LINE2\",\"VENDOR_ADDRESS_LINE2\") \\\n",
        "    .withColumnRenamed(\"CITY\",\"VENDOR_CITY\") \\\n",
        "    .withColumnRenamed(\"STATE\",\"VENDOR_STATE\") \\\n",
        "    .withColumnRenamed(\"POSTAL_CODE\",\"VENDOR_POSTAL_CODE\")\n",
        "vend.printSchema()"
      ],
      "metadata": {
        "colab": {
          "base_uri": "https://localhost:8080/"
        },
        "id": "wmKyMR5xeLlK",
        "outputId": "958887ae-a0e8-45b6-b13a-34ffc73c7bc9"
      },
      "execution_count": null,
      "outputs": [
        {
          "output_type": "stream",
          "name": "stdout",
          "text": [
            "root\n",
            " |-- VENDOR_ID: string (nullable = true)\n",
            " |-- VENDOR_NAME: string (nullable = true)\n",
            " |-- VENDOR_ADDRESS_LINE1: string (nullable = true)\n",
            " |-- VENDOR_ADDRESS_LINE2: string (nullable = true)\n",
            " |-- VENDOR_CITY: string (nullable = true)\n",
            " |-- VENDOR_STATE: string (nullable = true)\n",
            " |-- VENDOR_POSTAL_CODE: integer (nullable = true)\n",
            "\n"
          ]
        }
      ]
    },
    {
      "cell_type": "code",
      "source": [
        "from pyspark.sql.functions import *"
      ],
      "metadata": {
        "id": "1zFYWrLjJ7l0"
      },
      "execution_count": null,
      "outputs": []
    },
    {
      "cell_type": "markdown",
      "source": [
        "**Task 1**"
      ],
      "metadata": {
        "id": "uiq_kWDDdxjn"
      }
    },
    {
      "cell_type": "code",
      "source": [
        "df_join = ins.join(emp,on=\"AGENT_ID\", how=\"leftouter\").join(vend,on=\"VENDOR_ID\", how=\"leftouter\")"
      ],
      "metadata": {
        "id": "4Xx50FgrM3Iv"
      },
      "execution_count": null,
      "outputs": []
    },
    {
      "cell_type": "code",
      "source": [
        "df_join.show(5)"
      ],
      "metadata": {
        "colab": {
          "base_uri": "https://localhost:8080/"
        },
        "id": "TK0C_3LCPqmx",
        "outputId": "bbda0790-92d5-4cf7-a4ed-ecf8a349f4ca"
      },
      "execution_count": null,
      "outputs": [
        {
          "output_type": "stream",
          "name": "stdout",
          "text": [
            "+---------+----------+-------------------+--------------+-----------+-------------+-------------+----------+----------+--------------+--------------+------------+--------------------+--------------------+-------------+-----------+-----+-----------+-----------+--------------+---+------+-----------------+--------------------+-----------------+----------+------------+--------------+------------------+------------------------+------------+-----------------+-------------------+----------+-----------------------+--------------+--------------+------------------------+---------------+---------------+--------------------+-----------------+-----------+---------+---------------+------------------+------------------+--------------------+--------------------+--------------------+------------+------------+------------------+\n",
            "|VENDOR_ID|  AGENT_ID|      TXN_DATE_TIME|TRANSACTION_ID|CUSTOMER_ID|POLICY_NUMBER|POLICY_EFF_DT|   LOSS_DT| REPORT_DT|INSURANCE_TYPE|PREMIUM_AMOUNT|CLAIM_AMOUNT|       CUSTOMER_NAME|       ADDRESS_LINE1|ADDRESS_LINE2|       CITY|STATE|POSTAL_CODE|        SSN|MARITAL_STATUS|AGE|TENURE|EMPLOYMENT_STATUS|NO_OF_FAMILY_MEMBERS|RISK_SEGMENTATION|HOUSE_TYPE|SOCIAL_CLASS|ROUTING_NUMBER|       ACCT_NUMBER|CUSTOMER_EDUCATION_LEVEL|CLAIM_STATUS|INCIDENT_SEVERITY|AUTHORITY_CONTACTED|ANY_INJURY|POLICE_REPORT_AVAILABLE|INCIDENT_STATE| INCIDENT_CITY|INCIDENT_HOUR_OF_THE_DAY|     AGENT_NAME|DATE_OF_JOINING|   EMP_ADDRESS_LINE1|EMP_ADDRESS_LINE2|   EMP_CITY|EMP_STATE|EMP_POSTAL_CODE|EMP_ROUTING_NUMBER|   EMP_ACCT_NUMBER|         VENDOR_NAME|VENDOR_ADDRESS_LINE1|VENDOR_ADDRESS_LINE2| VENDOR_CITY|VENDOR_STATE|VENDOR_POSTAL_CODE|\n",
            "+---------+----------+-------------------+--------------+-----------+-------------+-------------+----------+----------+--------------+--------------+------------+--------------------+--------------------+-------------+-----------+-----+-----------+-----------+--------------+---+------+-----------------+--------------------+-----------------+----------+------------+--------------+------------------+------------------------+------------+-----------------+-------------------+----------+-----------------------+--------------+--------------+------------------------+---------------+---------------+--------------------+-----------------+-----------+---------+---------------+------------------+------------------+--------------------+--------------------+--------------------+------------+------------+------------------+\n",
            "|VNDR00556|AGENT00413|2020-06-01 00:00:00|   TXN00000001|  A00003822|  PLC00008468|   2015-06-23|2020-05-16|2020-05-21|        Health|        157.13|        9000|Christopher Demarest|7701 West Saint J...|        #2010|   Glendale|   AZ|      85308|087-11-1946|             Y| 54|    89|                Y|                   3|                L|       Own|          LI|     109134974|HXJP58258181908465|                Bachelor|           A|       Major Loss|             Police|         0|                      1|            GA|      Savannah|                       4|    Amy Wangler|     1994-01-06| 584 Rural Hill Road|             null|  Nashville|       TN|          37217|          35441155|LRZO53254369804934|          Ramsey Inc|3114 West 20th Court|                null| Panama City|          FL|             32405|\n",
            "|VNDR00592|AGENT00769|2020-06-01 00:00:00|   TXN00000002|  A00008149|  PLC00009594|   2018-04-21|2020-05-13|2020-05-18|      Property|        141.71|       26000|      Ricardo Gatlin|8595 West 81st Drive|         null|     Arvada|   CO|      80005|685-33-3536|             N| 61|    80|                Y|                   4|                L|      Rent|          MI|      40125819|JUND46859540983731|                Bachelor|           A|       Total Loss|          Ambulance|         1|                      0|            AL|    Montgomery|                       0| Jessica Montez|     2004-05-28|6114 West Glenn D...|               #1|   Glendale|       AZ|          85301|          44055451|XBYG14382904542874|Morales, Campbell...|42 West Louise St...|                   B|Fayetteville|          AR|             72701|\n",
            "|VNDR00031|AGENT00883|2020-06-01 00:00:00|   TXN00000003|  A00003172|  PLC00007969|   2019-10-03|2020-05-21|2020-05-26|      Property|        157.24|       13000|      Lashawn Engles| 637 Britannia Drive|         null|    Vallejo|   CA|      94591|378-36-0672|             N| 47|    68|                Y|                   6|                L|      Rent|          MI|      99513168|WGZZ90128415227650|                     PhD|           A|       Total Loss|             Police|         0|                      1|            CO|Grand Junction|                      19|   Howard Smith|     2004-08-01|2500 Snowdoun Cha...|             null| Montgomery|       AL|          36105|          55770246|WRXH14597428306333|         Johnson Ltd|2619 North Qualit...|                #315|Fayetteville|          AR|             72703|\n",
            "|VNDR00075|AGENT00278|2020-06-01 00:00:00|   TXN00000004|  A00007572|  PLC00009292|   2016-11-29|2020-05-14|2020-05-19|        Health|        172.87|       16000|      Steven Bassett|    2803 River Drive|         null|Thunderbolt|   GA|      31404|669-92-1861|             Y| 36|    16|                Y|                   7|                L|  Mortgage|          MI|      18429110|WIKE91555436351397|                 Masters|           A|       Minor Loss|          Ambulance|         0|                      0|            GA|      Savannah|                      12|Patricia Tucker|     2007-06-12|  313 Lone Oak Drive|             null|     Norman|       OK|          73071|          87652976|YEPN16077902472499|    Blackwell-Foster|   3609 Meadow Drive|                null|   Nashville|          TN|             37215|\n",
            "|VNDR00472|AGENT00636|2020-06-01 00:00:00|   TXN00000005|  A00008173|  PLC00000204|   2011-12-26|2020-05-17|2020-05-22|        Travel|         88.53|        3000|     Jason Rodriguez| 7573 National Drive|         null|  Livermore|   CA|      94550|703-40-1033|             Y| 51|    16|                Y|                   2|                M|      Rent|          HI|      70752391|VYJW71311537294027|                 Masters|           A|       Major Loss|             Police|         0|                      1|            TN|     Nashville|                      18|    Brenda Bean|     2010-01-19|    120 Wells Avenue|             null|Glen Burnie|       MD|          21061|          76119019|HZBK86544578578547|         Evans-Scott|4001 19th Place N...|                null|  Washington|          DC|             20018|\n",
            "+---------+----------+-------------------+--------------+-----------+-------------+-------------+----------+----------+--------------+--------------+------------+--------------------+--------------------+-------------+-----------+-----+-----------+-----------+--------------+---+------+-----------------+--------------------+-----------------+----------+------------+--------------+------------------+------------------------+------------+-----------------+-------------------+----------+-----------------------+--------------+--------------+------------------------+---------------+---------------+--------------------+-----------------+-----------+---------+---------------+------------------+------------------+--------------------+--------------------+--------------------+------------+------------+------------------+\n",
            "only showing top 5 rows\n",
            "\n"
          ]
        }
      ]
    },
    {
      "cell_type": "code",
      "source": [
        "distinctDF = df_join.distinct() #Checking for Duplicates\n",
        "print(\"Distinct count: \"+str(distinctDF.count()))\n",
        "distinctDF.show(truncate=False)\n"
      ],
      "metadata": {
        "colab": {
          "base_uri": "https://localhost:8080/"
        },
        "id": "A5-e6Cavrq3l",
        "outputId": "b33ba4fa-e864-4e14-b0be-7eff79e4569a"
      },
      "execution_count": null,
      "outputs": [
        {
          "output_type": "stream",
          "name": "stdout",
          "text": [
            "Distinct count: 10000\n",
            "+---------+----------+-------------------+--------------+-----------+-------------+-------------+----------+----------+--------------+--------------+------------+---------------------+---------------------------+-------------+-----------------+-----+-----------+-----------+--------------+---+------+-----------------+--------------------+-----------------+----------+------------+--------------+------------------+------------------------+------------+-----------------+-------------------+----------+-----------------------+--------------+-----------------+------------------------+----------------+---------------+-----------------------------+-----------------+-----------------+---------+---------------+------------------+------------------+-----------------------------+---------------------------+--------------------+-----------------+------------+------------------+\n",
            "|VENDOR_ID|AGENT_ID  |TXN_DATE_TIME      |TRANSACTION_ID|CUSTOMER_ID|POLICY_NUMBER|POLICY_EFF_DT|LOSS_DT   |REPORT_DT |INSURANCE_TYPE|PREMIUM_AMOUNT|CLAIM_AMOUNT|CUSTOMER_NAME        |ADDRESS_LINE1              |ADDRESS_LINE2|CITY             |STATE|POSTAL_CODE|SSN        |MARITAL_STATUS|AGE|TENURE|EMPLOYMENT_STATUS|NO_OF_FAMILY_MEMBERS|RISK_SEGMENTATION|HOUSE_TYPE|SOCIAL_CLASS|ROUTING_NUMBER|ACCT_NUMBER       |CUSTOMER_EDUCATION_LEVEL|CLAIM_STATUS|INCIDENT_SEVERITY|AUTHORITY_CONTACTED|ANY_INJURY|POLICE_REPORT_AVAILABLE|INCIDENT_STATE|INCIDENT_CITY    |INCIDENT_HOUR_OF_THE_DAY|AGENT_NAME      |DATE_OF_JOINING|EMP_ADDRESS_LINE1            |EMP_ADDRESS_LINE2|EMP_CITY         |EMP_STATE|EMP_POSTAL_CODE|EMP_ROUTING_NUMBER|EMP_ACCT_NUMBER   |VENDOR_NAME                  |VENDOR_ADDRESS_LINE1       |VENDOR_ADDRESS_LINE2|VENDOR_CITY      |VENDOR_STATE|VENDOR_POSTAL_CODE|\n",
            "+---------+----------+-------------------+--------------+-----------+-------------+-------------+----------+----------+--------------+--------------+------------+---------------------+---------------------------+-------------+-----------------+-----+-----------+-----------+--------------+---+------+-----------------+--------------------+-----------------+----------+------------+--------------+------------------+------------------------+------------+-----------------+-------------------+----------+-----------------------+--------------+-----------------+------------------------+----------------+---------------+-----------------------------+-----------------+-----------------+---------+---------------+------------------+------------------+-----------------------------+---------------------------+--------------------+-----------------+------------+------------------+\n",
            "|VNDR00258|AGENT00509|2020-06-19 00:00:00|TXN00000486   |A00008201  |PLC00006143  |2012-12-16   |2020-06-04|2020-06-09|Mobile        |6.53          |600         |Virginia Mccann      |98 Lee Drive               |null         |Annapolis        |MD   |21403      |789-17-0272|N             |26 |119   |Y                |2                   |L                |Own       |HI          |119193662     |EKJP04464673787726|Bachelor                |A           |Minor Loss       |None               |1         |1                      |FL            |Panama City      |10                      |Ryan Otoole     |2006-05-18     |6821 Northwest 25th Street   |null             |Bethany          |OK       |73008          |56023015          |TQIY84450202267835|Rodriguez-Thompson           |5170 Hickory Hollow Parkway|#935                |Nashville        |TN          |37013             |\n",
            "|null     |AGENT00165|2020-07-09 00:00:00|TXN00000970   |A00002131  |PLC00001442  |2017-10-06   |2020-06-22|2020-06-27|Health        |134.49        |5000        |Kerry Spicer         |3116 Northwest 61st Terrace|null         |Oklahoma City    |OK   |73112      |292-86-2719|Y             |40 |100   |Y                |2                   |M                |Rent      |MI          |45982646      |ZDOV34040532797444|Bachelor                |A           |Major Loss       |Ambulance          |1         |1                      |AR            |Fayetteville     |7                       |Victoria Hicks  |2005-03-03     |36043 Soapberry Commons      |null             |Fremont          |CA       |94536          |117692246         |JILP51941436097769|null                         |null                       |null                |null             |null        |null              |\n",
            "|VNDR00087|AGENT00897|2020-07-13 00:00:00|TXN00001057   |A00003027  |PLC00003463  |2012-12-23   |2020-06-29|2020-07-04|Travel        |76.65         |1000        |Orville Carbone      |615 Sand Road              |null         |Severn           |MD   |21144      |326-36-4271|Y             |62 |30    |Y                |2                   |M                |Mortgage  |LI          |51254863      |HVQU17057214941119|Bachelor                |A           |Minor Loss       |Police             |0         |1                      |OK            |Oklahoma City    |19                      |Calvin Lewis    |2006-04-12     |212 Burk Way                 |null             |Del City         |OK       |73115          |40583325          |VFUK72369692237675|Davis PLC                    |2130 Loren Circle          |null                |Fayetteville     |AR          |72701             |\n",
            "|VNDR00425|AGENT00384|2020-07-22 00:00:00|TXN00001303   |A00009311  |PLC00000046  |2019-11-21   |2020-07-19|2020-07-19|Life          |63.95         |41000       |Lisa Gholston        |8315 Surf Drive            |null         |Panama City Beach|FL   |32408      |304-07-9727|Y             |35 |75    |Y                |5                   |L                |Own       |MI          |122159703     |MIKY64535813626051|College                 |A           |Minor Loss       |Other              |1         |0                      |CA            |Grass Valley     |3                       |Rhonda Mason    |2003-05-11     |743 East 9th Avenue          |#STE 000200      |Anchorage        |AK       |99501          |95886637          |KLQT92187768324244|Nguyen-Hess                  |404 Summit Oaks Drive      |null                |Nashville        |TN          |37221             |\n",
            "|VNDR00410|AGENT00871|2020-08-02 00:00:00|TXN00001567   |A00009668  |PLC00000750  |2012-06-05   |2020-07-23|2020-07-26|Life          |80.62         |89000       |Jules Hughes         |12 17th Place              |null         |Tybee Island     |GA   |31328      |063-69-5652|Y             |39 |90    |Y                |5                   |M                |Mortgage  |MI          |102096394     |GJBO62036545395549|Bachelor                |A           |Minor Loss       |Police             |0         |0                      |TN            |Nashville        |12                      |Charles Milam   |1999-04-26     |2315 Kezey Court             |null             |Crofton          |MD       |21114          |101510415         |NPJT28339550872419|Fleming Group                |71 Racine Road             |null                |null             |VT          |5468              |\n",
            "|null     |AGENT00226|2020-08-06 00:00:00|TXN00001678   |A00000580  |PLC00002675  |2016-09-13   |2020-07-18|2020-07-23|Motor         |90.07         |5000        |Hattie Diaz          |111 Lakeview Terrace       |null         |Lynn Haven       |FL   |32444      |442-42-4282|Y             |34 |22    |Y                |7                   |L                |Rent      |HI          |79651684      |GOHS30367901574631|NA                      |A           |Total Loss       |None               |1         |0                      |GA            |Savannah         |9                       |David Stephenson|1999-06-10     |117 East Cook Avenue         |null             |Anchorage        |AK       |99501          |90079481          |VXPO10262783761493|null                         |null                       |null                |null             |null        |null              |\n",
            "|VNDR00134|AGENT00395|2020-08-07 00:00:00|TXN00001702   |A00006687  |PLC00003565  |2011-09-04   |2020-07-20|2020-07-25|Life          |90.46         |55000       |Dominick Daniels     |1649 Timberridge Court     |null         |Fayetteville     |AR   |72704      |768-47-6552|Y             |62 |46    |Y                |3                   |L                |Mortgage  |HI          |100544039     |MLUS16828324085560|Bachelor                |A           |Major Loss       |None               |0         |1                      |CT            |Manchester       |23                      |Randall Anna    |2001-02-18     |4617 East 3rd Street         |null             |Panama City      |FL       |32404          |18917431          |QRDZ64558803394539|Miller Ltd                   |1711 Lore Road             |#APT 000106         |Anchorage        |AK          |99507             |\n",
            "|VNDR00211|AGENT00038|2020-08-26 00:00:00|TXN00002141   |A00008524  |PLC00003008  |2018-10-21   |2020-08-19|2020-08-21|Property      |149.44        |12000       |Suzanne Torres       |58 North U.S.A Drive       |null         |Fayetteville     |AR   |72701      |616-94-3209|Y             |48 |74    |Y                |2                   |L                |Mortgage  |MI          |74869921      |KKCR57973248129149|Masters                 |A           |Major Loss       |Other              |1         |1                      |CT            |Manchester       |7                       |Harold Ward     |1993-01-24     |171 Brickhill Circle         |null             |Pooler           |GA       |31322          |114283917         |XFPA46888061021143|Keller, Fuentes and Smith    |82 Queen Court             |null                |Manchester       |CT          |6040              |\n",
            "|VNDR00375|AGENT00756|2020-09-09 00:00:00|TXN00002462   |A00002316  |PLC00009743  |2013-03-09   |2020-09-06|2020-09-06|Travel        |62.59         |4000        |Roland Gilmore       |6941 West 87th Way         |null         |Arvada           |CO   |80003      |799-87-3322|N             |49 |69    |Y                |2                   |L                |Mortgage  |LI          |73141310      |MFMW65111379649772|Bachelor                |A           |Total Loss       |Ambulance          |1         |0                      |MA            |Marlborough      |4                       |Elizabeth Smith |2006-11-12     |5209 North Dewey Avenue      |null             |Oklahoma City    |OK       |73118          |127478829         |UJTV56045666041146|Ortega, Maldonado and Carson |14854 Bay View Circle      |null                |Panama City Beach|FL          |32413             |\n",
            "|VNDR00152|AGENT01106|2020-09-15 00:00:00|TXN00002632   |A00003514  |PLC00002037  |2012-08-13   |2020-09-01|2020-09-06|Property      |131.54        |13000       |Benjamin Brocklehurst|2936 State Avenue          |null         |Panama City      |FL   |32405      |633-86-4821|N             |35 |24    |Y                |5                   |M                |Mortgage  |MI          |53077624      |RCXC54763492919522|College                 |A           |Major Loss       |Police             |1         |0                      |GA            |Savannah         |13                      |Isaac Willard   |1999-10-01     |103 Razz Way                 |null             |Panama City Beach|FL       |32408          |69986709          |MXTU71998315230492|Morris-Howe                  |200 Pheasant Avenue        |#103                |Louisville       |KY          |40118             |\n",
            "|VNDR00263|AGENT00203|2020-09-17 00:00:00|TXN00002707   |A00005979  |PLC00009841  |2017-07-27   |2020-08-30|2020-09-04|Travel        |71.5          |2000        |Mark Casale          |1194 Cragmont Avenue       |M            |Berkeley         |CA   |94708      |292-62-4766|Y             |52 |88    |Y                |6                   |M                |Own       |LI          |69511187      |TFAB78961859450607|Bachelor                |A           |Major Loss       |Other              |0         |1                      |OK            |Edmond           |0                       |Linda Adair     |2014-04-10     |643 Farragut Street Northwest|null             |Washington       |DC       |20011          |107917339         |EXAW56017001053835|Jones-Banks                  |1528 Spruce Street         |M                   |Berkeley         |CA          |94709             |\n",
            "|VNDR00120|AGENT00565|2020-09-24 00:00:00|TXN00002858   |A00005891  |PLC00004522  |2018-03-20   |2020-09-14|2020-09-17|Motor         |74.25         |6000        |James King           |1139 Addison Street        |#R 1         |Berkeley         |CA   |94702      |024-75-6672|Y             |32 |11    |Y                |4                   |H                |Rent      |HI          |26984922      |OCEI97169430819895|Masters                 |A           |Total Loss       |None               |0         |1                      |CA            |Fremont          |3                       |Jonathan Onusko |1997-04-09     |3449 Rockway Avenue          |null             |Annapolis        |MD       |21403          |116879811         |IEPT05177412022149|Cunningham-Harrison          |5624 Oakes Drive           |null                |Brentwood        |TN          |37027             |\n",
            "|VNDR00387|AGENT00325|2020-09-25 00:00:00|TXN00002891   |A00000692  |PLC00009869  |2017-05-11   |2020-09-20|2020-09-21|Health        |126.46        |5000        |Salvatore Bertolini  |7003 9th Street Northwest  |null         |Washington       |DC   |20012      |430-12-1115|Y             |31 |40    |Y                |7                   |M                |Rent      |LI          |83216183      |OFGS55241486473505|Bachelor                |D           |Total Loss       |Other              |0         |1                      |CA            |Oakland          |18                      |Beverly Veil    |2006-03-12     |3388 Thomasson Lane          |null             |Fairfield        |CA       |94534          |46848271          |WGZU29143512909346|Smith-Strickland             |314 Cherrywood Drive       |null                |Moore            |OK          |73160             |\n",
            "|VNDR00251|AGENT00267|2020-10-15 00:00:00|TXN00003360   |A00009454  |PLC00004976  |2010-10-15   |2020-09-27|2020-10-02|Mobile        |9.25          |600         |Margaret Alicea      |2324 North Briarwood Lane  |null         |Fayetteville     |AR   |72703      |523-73-0293|Y             |40 |71    |Y                |4                   |M                |Mortgage  |HI          |41719787      |BBTL99316876051280|Bachelor                |A           |Major Loss       |Other              |1         |0                      |VT            |Barre            |4                       |Richard Sideris |1999-10-09     |6435 West Hillsborough Avenue|#Lot 11          |Tampa            |FL       |33634          |64190956          |PDRO70439464398469|Sanchez LLC                  |154 Lyness Street          |null                |Manchester       |CT          |6040              |\n",
            "|VNDR00449|AGENT00041|2020-10-29 00:00:00|TXN00003710   |A00006072  |PLC00003572  |2018-01-16   |2020-10-11|2020-10-16|Life          |94.15         |43000       |Kyle Lowry           |3325 Dix Street Northeast  |null         |Washington       |DC   |20019      |201-53-9367|N             |55 |34    |Y                |7                   |M                |Rent      |LI          |127681894     |NKZG87652659460491|Bachelor                |A           |Total Loss       |Ambulance          |0         |0                      |MD            |Annapolis        |6                       |John Tallman    |2006-04-22     |2313 Mansfield Avenue        |null             |Del City         |OK       |73115          |38768204          |YCPM81152663783872|Daugherty Ltd                |1250 Pram Place            |null                |Annapolis        |MD          |21403             |\n",
            "|VNDR00010|AGENT00414|2020-11-20 00:00:00|TXN00004273   |A00006622  |PLC00001144  |2014-01-06   |2020-11-01|2020-11-06|Mobile        |10.14         |200         |Russell Pinson       |2285 Wold Run Drive        |#1           |Fayetteville     |AR   |72704      |065-97-1839|Y             |48 |118   |Y                |2                   |L                |Rent      |HI          |67168011      |QFQK46193188619865|Masters                 |A           |Major Loss       |Ambulance          |0         |1                      |FL            |Panama City Beach|0                       |Christine Carter|2016-06-17     |106 Varnum Street Northwest  |null             |Washington       |DC       |20011          |46516244          |MNQC41165368811882|Mcclure Ltd                  |243 Kentucky Avenue        |null                |Pasadena         |MD          |21122             |\n",
            "|VNDR00108|AGENT00930|2020-12-10 00:00:00|TXN00004782   |A00009908  |PLC00009001  |2013-07-29   |2020-11-26|2020-12-01|Travel        |78.09         |1000        |Andrew Clark         |301 Willow Way             |null         |Lynn Haven       |FL   |32444      |747-57-6857|Y             |51 |61    |Y                |4                   |M                |Own       |LI          |127017976     |NZRE43963562496803|High School             |D           |Minor Loss       |Police             |0         |1                      |VT            |null             |7                       |Lewis Robertson |2000-05-14     |3110 East Victory Drive      |null             |Savannah         |GA       |31404          |22713744          |JYAR87870811099441|Pham Ltd                     |23 Cove Drive              |null                |Savannah         |GA          |31419             |\n",
            "|null     |AGENT00356|2020-12-12 00:00:00|TXN00004847   |A00004023  |PLC00005241  |2013-02-25   |2020-12-01|2020-12-06|Life          |74.55         |31000       |Kristen Ward         |2017 North Hartford Drive  |null         |Fayetteville     |AR   |72701      |173-03-3074|N             |59 |40    |Y                |6                   |M                |Rent      |MI          |26233712      |NHFZ51012100669816|Bachelor                |A           |Major Loss       |Police             |1         |1                      |GA            |Savannah         |19                      |Helen Goldman   |2007-06-20     |10304 North 179th Drive      |null             |Waddell          |AZ       |85355          |99792565          |QMDY10930390312428|null                         |null                       |null                |null             |null        |null              |\n",
            "|null     |AGENT00424|2020-12-16 00:00:00|TXN00004942   |A00007685  |PLC00008709  |2012-08-31   |2020-12-12|2020-12-13|Travel        |90.16         |5000        |Brent Manjarrez      |16 Clark Street            |null         |null             |VT   |5150       |297-38-0869|Y             |54 |114   |Y                |2                   |L                |Own       |MI          |18678291      |SXYM66715833820845|College                 |A           |Total Loss       |Police             |1         |1                      |KY            |Louisville       |9                       |Robert Obrien   |1991-04-05     |653 Vermont 12               |null             |Hartland         |VT       |5048           |23427152          |MCSF30551894259763|null                         |null                       |null                |null             |null        |null              |\n",
            "|VNDR00416|AGENT00867|2021-01-05 00:00:00|TXN00005462   |A00002741  |PLC00008302  |2017-12-24   |2021-01-01|2021-01-02|Mobile        |6.6           |500         |James Kinser         |1304 Northern Hills Road   |null         |Norman           |OK   |73071      |553-60-1188|Y             |26 |89    |Y                |2                   |L                |Mortgage  |MI          |48449694      |MTRD16120648454880|Bachelor                |A           |Major Loss       |None               |1         |1                      |FL            |Panama City      |13                      |Marcia Knowles  |1991-03-16     |6234 West Behrend Drive      |#1134            |Glendale         |AZ       |85308          |66901237          |XWPM20407976259173|Contreras, Sanchez and Harris|42 West Louise Street      |B                   |Fayetteville     |AR          |72701             |\n",
            "+---------+----------+-------------------+--------------+-----------+-------------+-------------+----------+----------+--------------+--------------+------------+---------------------+---------------------------+-------------+-----------------+-----+-----------+-----------+--------------+---+------+-----------------+--------------------+-----------------+----------+------------+--------------+------------------+------------------------+------------+-----------------+-------------------+----------+-----------------------+--------------+-----------------+------------------------+----------------+---------------+-----------------------------+-----------------+-----------------+---------+---------------+------------------+------------------+-----------------------------+---------------------------+--------------------+-----------------+------------+------------------+\n",
            "only showing top 20 rows\n",
            "\n"
          ]
        }
      ]
    },
    {
      "cell_type": "code",
      "source": [
        "df_join.createOrReplaceTempView(\"df\")"
      ],
      "metadata": {
        "id": "L0wuWT4OQcMa"
      },
      "execution_count": null,
      "outputs": []
    },
    {
      "cell_type": "markdown",
      "source": [
        "**Task 2**"
      ],
      "metadata": {
        "id": "EEIXdUwKQU0A"
      }
    },
    {
      "cell_type": "code",
      "source": [
        "spark.sql(\n",
        "\"\"\"\n",
        "SELECT INSURANCE_TYPE, \n",
        "SUM (CLAIM_AMOUNT) \n",
        "FROM df\n",
        "GROUP BY INSURANCE_TYPE\n",
        "ORDER BY 2 desc;\n",
        "\"\"\"\n",
        ").show(3)"
      ],
      "metadata": {
        "colab": {
          "base_uri": "https://localhost:8080/"
        },
        "id": "roRF9dd-QYnp",
        "outputId": "2d4c473a-0a88-4de9-96b2-02663604c091"
      },
      "execution_count": null,
      "outputs": [
        {
          "output_type": "stream",
          "name": "stdout",
          "text": [
            "+--------------+-----------------+\n",
            "|INSURANCE_TYPE|sum(CLAIM_AMOUNT)|\n",
            "+--------------+-----------------+\n",
            "|          Life|         91478000|\n",
            "|      Property|         41579000|\n",
            "|        Health|         18254000|\n",
            "+--------------+-----------------+\n",
            "only showing top 3 rows\n",
            "\n"
          ]
        }
      ]
    },
    {
      "cell_type": "markdown",
      "source": [
        "**Task 3**"
      ],
      "metadata": {
        "id": "14zcxBkgdJIA"
      }
    },
    {
      "cell_type": "code",
      "source": [
        "spark.sql(\n",
        "\"\"\"\n",
        "SELECT STATE, \n",
        "SUM (CLAIM_AMOUNT) \n",
        "FROM df\n",
        "WHERE RISK_SEGMENTATION == 'H'\n",
        "GROUP BY STATE\n",
        "ORDER BY 2 desc;\n",
        "\"\"\"\n",
        ").show(5)"
      ],
      "metadata": {
        "colab": {
          "base_uri": "https://localhost:8080/"
        },
        "id": "No7lBhn1dNRt",
        "outputId": "9dd59593-a132-4789-a116-29084951ab8c"
      },
      "execution_count": null,
      "outputs": [
        {
          "output_type": "stream",
          "name": "stdout",
          "text": [
            "+-----+-----------------+\n",
            "|STATE|sum(CLAIM_AMOUNT)|\n",
            "+-----+-----------------+\n",
            "|   CA|          3396500|\n",
            "|   AZ|          1879500|\n",
            "|   AL|          1855500|\n",
            "|   AR|          1794700|\n",
            "|   CO|          1524900|\n",
            "+-----+-----------------+\n",
            "only showing top 5 rows\n",
            "\n"
          ]
        }
      ]
    },
    {
      "cell_type": "markdown",
      "source": [
        "**Task 4**"
      ],
      "metadata": {
        "id": "TSuampY1frfX"
      }
    },
    {
      "cell_type": "code",
      "source": [
        "from pyspark.sql import functions as f\n",
        "df_join = df_join.withColumn(\n",
        "    'COLOCATION',\n",
        "    f.when((f.col(\"STATE\") == f.col(\"INCIDENT_STATE\")) & (f.col(\"INCIDENT_STATE\") == f.col(\"EMP_STATE\")), 1)\\\n",
        "    .otherwise(0)\n",
        ")\n",
        "\n"
      ],
      "metadata": {
        "id": "xKZ01oS6fuVU"
      },
      "execution_count": null,
      "outputs": []
    },
    {
      "cell_type": "code",
      "source": [
        "df_join.agg({'COLOCATION': 'mean'}).show()"
      ],
      "metadata": {
        "colab": {
          "base_uri": "https://localhost:8080/"
        },
        "id": "A_kZOnJRuW0q",
        "outputId": "5cf1358d-1fd5-4a6c-e79e-b4fbcd60d955"
      },
      "execution_count": null,
      "outputs": [
        {
          "output_type": "stream",
          "name": "stdout",
          "text": [
            "+---------------+\n",
            "|avg(COLOCATION)|\n",
            "+---------------+\n",
            "|         0.0044|\n",
            "+---------------+\n",
            "\n"
          ]
        }
      ]
    },
    {
      "cell_type": "markdown",
      "source": [
        "**Task 5**"
      ],
      "metadata": {
        "id": "9GCrsiKYv30E"
      }
    },
    {
      "cell_type": "code",
      "source": [
        "df_join = df_join.withColumn(\"AUTHORITY_CONTACTED\", when(df_join.POLICE_REPORT_AVAILABLE == 1,\"Police\") \\\n",
        "          .otherwise(df_join.AUTHORITY_CONTACTED))\n",
        "df_join.show()"
      ],
      "metadata": {
        "colab": {
          "base_uri": "https://localhost:8080/"
        },
        "id": "0tE8LZMrv6Ic",
        "outputId": "0b5ce496-5b2d-4e00-e9cf-457da4bfcb03"
      },
      "execution_count": null,
      "outputs": [
        {
          "output_type": "stream",
          "name": "stdout",
          "text": [
            "+---------+----------+-------------------+--------------+-----------+-------------+-------------+----------+----------+--------------+--------------+------------+--------------------+--------------------+-------------+-----------+-----+-----------+-----------+--------------+---+------+-----------------+--------------------+-----------------+----------+------------+--------------+------------------+------------------------+------------+-----------------+-------------------+----------+-----------------------+--------------+-----------------+------------------------+-----------------+---------------+--------------------+-----------------+-----------------+---------+---------------+------------------+------------------+--------------------+--------------------+--------------------+------------+------------+------------------+----------+\n",
            "|VENDOR_ID|  AGENT_ID|      TXN_DATE_TIME|TRANSACTION_ID|CUSTOMER_ID|POLICY_NUMBER|POLICY_EFF_DT|   LOSS_DT| REPORT_DT|INSURANCE_TYPE|PREMIUM_AMOUNT|CLAIM_AMOUNT|       CUSTOMER_NAME|       ADDRESS_LINE1|ADDRESS_LINE2|       CITY|STATE|POSTAL_CODE|        SSN|MARITAL_STATUS|AGE|TENURE|EMPLOYMENT_STATUS|NO_OF_FAMILY_MEMBERS|RISK_SEGMENTATION|HOUSE_TYPE|SOCIAL_CLASS|ROUTING_NUMBER|       ACCT_NUMBER|CUSTOMER_EDUCATION_LEVEL|CLAIM_STATUS|INCIDENT_SEVERITY|AUTHORITY_CONTACTED|ANY_INJURY|POLICE_REPORT_AVAILABLE|INCIDENT_STATE|    INCIDENT_CITY|INCIDENT_HOUR_OF_THE_DAY|       AGENT_NAME|DATE_OF_JOINING|   EMP_ADDRESS_LINE1|EMP_ADDRESS_LINE2|         EMP_CITY|EMP_STATE|EMP_POSTAL_CODE|EMP_ROUTING_NUMBER|   EMP_ACCT_NUMBER|         VENDOR_NAME|VENDOR_ADDRESS_LINE1|VENDOR_ADDRESS_LINE2| VENDOR_CITY|VENDOR_STATE|VENDOR_POSTAL_CODE|COLOCATION|\n",
            "+---------+----------+-------------------+--------------+-----------+-------------+-------------+----------+----------+--------------+--------------+------------+--------------------+--------------------+-------------+-----------+-----+-----------+-----------+--------------+---+------+-----------------+--------------------+-----------------+----------+------------+--------------+------------------+------------------------+------------+-----------------+-------------------+----------+-----------------------+--------------+-----------------+------------------------+-----------------+---------------+--------------------+-----------------+-----------------+---------+---------------+------------------+------------------+--------------------+--------------------+--------------------+------------+------------+------------------+----------+\n",
            "|VNDR00556|AGENT00413|2020-06-01 00:00:00|   TXN00000001|  A00003822|  PLC00008468|   2015-06-23|2020-05-16|2020-05-21|        Health|        157.13|        9000|Christopher Demarest|7701 West Saint J...|        #2010|   Glendale|   AZ|      85308|087-11-1946|             Y| 54|    89|                Y|                   3|                L|       Own|          LI|     109134974|HXJP58258181908465|                Bachelor|           A|       Major Loss|             Police|         0|                      1|            GA|         Savannah|                       4|      Amy Wangler|     1994-01-06| 584 Rural Hill Road|             null|        Nashville|       TN|          37217|          35441155|LRZO53254369804934|          Ramsey Inc|3114 West 20th Court|                null| Panama City|          FL|             32405|         0|\n",
            "|VNDR00592|AGENT00769|2020-06-01 00:00:00|   TXN00000002|  A00008149|  PLC00009594|   2018-04-21|2020-05-13|2020-05-18|      Property|        141.71|       26000|      Ricardo Gatlin|8595 West 81st Drive|         null|     Arvada|   CO|      80005|685-33-3536|             N| 61|    80|                Y|                   4|                L|      Rent|          MI|      40125819|JUND46859540983731|                Bachelor|           A|       Total Loss|          Ambulance|         1|                      0|            AL|       Montgomery|                       0|   Jessica Montez|     2004-05-28|6114 West Glenn D...|               #1|         Glendale|       AZ|          85301|          44055451|XBYG14382904542874|Morales, Campbell...|42 West Louise St...|                   B|Fayetteville|          AR|             72701|         0|\n",
            "|VNDR00031|AGENT00883|2020-06-01 00:00:00|   TXN00000003|  A00003172|  PLC00007969|   2019-10-03|2020-05-21|2020-05-26|      Property|        157.24|       13000|      Lashawn Engles| 637 Britannia Drive|         null|    Vallejo|   CA|      94591|378-36-0672|             N| 47|    68|                Y|                   6|                L|      Rent|          MI|      99513168|WGZZ90128415227650|                     PhD|           A|       Total Loss|             Police|         0|                      1|            CO|   Grand Junction|                      19|     Howard Smith|     2004-08-01|2500 Snowdoun Cha...|             null|       Montgomery|       AL|          36105|          55770246|WRXH14597428306333|         Johnson Ltd|2619 North Qualit...|                #315|Fayetteville|          AR|             72703|         0|\n",
            "|VNDR00075|AGENT00278|2020-06-01 00:00:00|   TXN00000004|  A00007572|  PLC00009292|   2016-11-29|2020-05-14|2020-05-19|        Health|        172.87|       16000|      Steven Bassett|    2803 River Drive|         null|Thunderbolt|   GA|      31404|669-92-1861|             Y| 36|    16|                Y|                   7|                L|  Mortgage|          MI|      18429110|WIKE91555436351397|                 Masters|           A|       Minor Loss|          Ambulance|         0|                      0|            GA|         Savannah|                      12|  Patricia Tucker|     2007-06-12|  313 Lone Oak Drive|             null|           Norman|       OK|          73071|          87652976|YEPN16077902472499|    Blackwell-Foster|   3609 Meadow Drive|                null|   Nashville|          TN|             37215|         0|\n",
            "|VNDR00472|AGENT00636|2020-06-01 00:00:00|   TXN00000005|  A00008173|  PLC00000204|   2011-12-26|2020-05-17|2020-05-22|        Travel|         88.53|        3000|     Jason Rodriguez| 7573 National Drive|         null|  Livermore|   CA|      94550|703-40-1033|             Y| 51|    16|                Y|                   2|                M|      Rent|          HI|      70752391|VYJW71311537294027|                 Masters|           A|       Major Loss|             Police|         0|                      1|            TN|        Nashville|                      18|      Brenda Bean|     2010-01-19|    120 Wells Avenue|             null|      Glen Burnie|       MD|          21061|          76119019|HZBK86544578578547|         Evans-Scott|4001 19th Place N...|                null|  Washington|          DC|             20018|         0|\n",
            "|     null|AGENT00402|2020-06-01 00:00:00|   TXN00000006|  A00003571|  PLC00007244|   2012-12-28|2020-05-20|2020-05-25|          Life|         87.02|       63000|        Terrance Han|5275 North 59th A...|         null|   Glendale|   AZ|      85301|059-08-4065|             N| 42|    38|                Y|                   2|                M|      Rent|          MI|     124246313|TMDB19464299963687|                 College|           A|       Major Loss|             Police|         0|                      1|            AZ|         Glendale|                       0|  Luciano Jackson|     2009-08-01|10826 Pointe Roya...|             null|      Bakersfield|       CA|          93311|          35911575|VHQA45663806811975|                null|                null|                null|        null|        null|              null|         0|\n",
            "|VNDR00150|AGENT00322|2020-06-01 00:00:00|   TXN00000007|  A00007245|  PLC00002796|   2012-10-26|2020-05-13|2020-05-18|        Health|        197.23|        3000|      Dennis Johnson|    5119 Marla Drive|         null|Panama City|   FL|      32404|539-25-2348|             Y| 61|    20|                Y|                   7|                L|      Rent|          MI|      72461648|ZCMU49563664563577|                      NA|           A|       Major Loss|             Police|         1|                      1|            CT|       Manchester|                      10|     Edgar Talley|     2013-06-02|       44 Elm Street|             null|  East Longmeadow|       MA|           1028|          29678921|FBBJ92261917454231|          Moreno LLC|  1261 Sioux Terrace|                null|   Nashville|          TN|             37115|         0|\n",
            "|VNDR00326|AGENT00152|2020-06-01 00:00:00|   TXN00000008|  A00004301|  PLC00002925|   2018-12-30|2020-05-14|2020-05-19|         Motor|         83.77|        8000|  Maryalice Martinez|6 Little Country ...|         null|   Savannah|   GA|      31406|791-66-5539|             Y| 35|    97|                Y|                   3|                L|      Rent|          MI|      89467431|ZLMN59372702463649|             High School|           A|       Total Loss|             Police|         0|                      1|            FL|Panama City Beach|                      10|      John Hensel|     1995-11-11|10124 Watsonville...|             null|       Louisville|       KY|          40272|          51435255|UVWP07029161363261|         Stewart Ltd|1729 Frankford St...|                null|  Washington|          DC|             20020|         0|\n",
            "|VNDR00437|AGENT00450|2020-06-01 00:00:00|   TXN00000009|  A00004671|  PLC00006886|   2019-06-27|2020-05-21|2020-05-26|         Motor|         82.14|        5000|   Nicholas Hamilton|642 South 2nd Street|         #608| Louisville|   KY|      40202|427-41-7221|             N| 27|   118|                Y|                   4|                H|  Mortgage|          MI|     107890252|EVZR61264221554624|                Bachelor|           A|       Major Loss|             Police|         0|                      1|            AZ|         Glendale|                      22|     Peter Thomas|     2017-10-12|1010 M Street Nor...|             null|       Washington|       DC|          20001|          92228117|VHVZ90875461509264|          Hanson Inc|910 Arlington Ter...|                null|Fayetteville|          AR|             72701|         0|\n",
            "|     null|AGENT00682|2020-06-01 00:00:00|   TXN00000010|  A00002020|  PLC00007657|   2015-12-19|2020-05-15|2020-05-20|        Travel|         71.29|        4000|  Nicholas Honokaupu|1914 Stratford Do...|         null| Montgomery|   AL|      36117|722-69-3392|             Y| 61|   119|                Y|                   4|                L|      Rent|          HI|      16215148|UXQB38236110828938|                     PhD|           A|       Major Loss|               None|         0|                      0|            CA|      San Leandro|                       4|    Michael Ortiz|     2000-08-10|4221 Thompson Avenue|            APT C|        Anchorage|       AK|          99508|          28122449|GETW44783556180552|                null|                null|                null|        null|        null|              null|         0|\n",
            "|VNDR00163|AGENT01091|2020-06-01 00:00:00|   TXN00000011|  A00007952|  PLC00003007|   2019-03-30|2020-05-20|2020-05-25|          Life|         61.45|       92000|         Janet Watts|    200 Redwood Road|         null| Manchester|   CT|       6040|233-66-3524|             N| 59|    14|                Y|                   7|                M|  Mortgage|          MI|      58804083|CQZQ73037026635053|                 Masters|           A|       Major Loss|             Police|         1|                      1|            MD|          Crofton|                      23|     Joshua Losey|     2004-10-09|2246 West Fairvie...|             null|       Montgomery|       AL|          36108|         123461076|YIAT74328087165676|      Foster-Sanchez| 4255 Tanager Common|                null|     Fremont|          CA|             94555|         0|\n",
            "|     null|AGENT00288|2020-06-01 00:00:00|   TXN00000012|  A00006313|  PLC00002139|   2016-07-22|2020-05-21|2020-05-26|         Motor|        101.15|        8000|    Patricia Garrett|   6721 Boundary Run|         null|  Nashville|   TN|      37221|224-80-1633|             Y| 42|    39|                Y|                   2|                H|       Own|          HI|      11697253|YGZM08271540598654|             High School|           D|       Major Loss|             Police|         1|                      1|            CT|       Manchester|                       3|   Michael Fowler|     2002-10-08|1500 South Divisi...|             null|          Guthrie|       OK|          73044|          73263191|GBXZ93703464051375|                null|                null|                null|        null|        null|              null|         0|\n",
            "|VNDR00191|AGENT00015|2020-06-01 00:00:00|   TXN00000013|  A00003693|  PLC00007839|   2019-06-12|2020-05-24|2020-05-27|        Health|        157.95|       11000|        Lisa Rosario|12870 Old Seward ...|  #STE 000105|  Anchorage|   AK|      99515|115-30-1247|             Y| 57|   118|                Y|                   3|                M|  Mortgage|          LI|      74438433|NAUY34845981013549|                Bachelor|           A|       Major Loss|             Police|         0|                      1|            KY|       Louisville|                      22|   Charles George|     1998-01-31|4717 Forest Hills...|             null|            Noble|       OK|          73068|         112506777|PEUK68232037630713|   Armstrong-Ramirez|    200 Boulder Road|                null|  Manchester|          CT|              6040|         0|\n",
            "|     null|AGENT01094|2020-06-01 00:00:00|   TXN00000014|  A00007988|  PLC00002521|   2020-01-29|2020-05-18|2020-05-23|          Life|         64.16|       51000|  Felicita Stoughton|     110 Oxford Road|         null|   Savannah|   GA|      31419|170-28-1062|             N| 31|   118|                Y|                   7|                L|       Own|          LI|      64537739|GIOA39230059052323|             High School|           A|       Total Loss|          Ambulance|         1|                      0|            AK|        Anchorage|                       0|   Robert Venable|     1997-04-15|3949 Ethan Allen ...|             null|Saint Albans City|       VT|           5478|          69952254|TOGM23655710729269|                null|                null|                null|        null|        null|              null|         0|\n",
            "|VNDR00135|AGENT00324|2020-06-01 00:00:00|   TXN00000015|  A00005617|  PLC00007011|   2015-06-08|2020-05-20|2020-05-25|        Mobile|          6.76|         700|    David Pennington|          210 Seaman|         null|    McCrory|   AR|      72101|519-11-2464|             Y| 55|    90|                Y|                   6|                L|  Mortgage|          HI|      93703880|LDQH95350551363442|                     PhD|           A|       Major Loss|             Police|         1|                      1|            CO|           Arvada|                      11|Barbara Hernandez|     1994-12-13|105 Ridgecrest Court|             null|      Panama City|       FL|          32405|          80018643|JANY27171527955107|        Shields-Bush|740 East 34th Street|                null|    Savannah|          GA|             31401|         0|\n",
            "|VNDR00051|AGENT00608|2020-06-01 00:00:00|   TXN00000016|  A00008033|  PLC00008152|   2011-01-25|2020-05-12|2020-05-17|         Motor|        128.73|        9000|     William Halcomb|5124 E Street Sou...|         null| Washington|   DC|      20019|142-09-4530|             Y| 57|    48|                Y|                   2|                L|      Rent|          LI|     115671968|KNLE94705483907630|                      NA|           A|       Minor Loss|             Police|         0|                      1|            AR|     Fayetteville|                      22|    Renee Zaldana|     2015-02-24|     61 Callahan Way|              #B4|    Mammoth Lakes|       CA|          93546|          28869605|NSVP36826783847299|      Roberts-Garcia|6624 Strawberry Lane|                null|  Louisville|          KY|             40214|         0|\n",
            "|VNDR00238|AGENT00911|2020-06-01 00:00:00|   TXN00000017|  A00007184|  PLC00000118|   2014-04-17|2020-05-13|2020-05-18|      Property|        114.42|       39000|     Michael Kimball|      42 Edison Road|         null| Manchester|   CT|       6040|448-54-0272|             Y| 53|    19|                Y|                   5|                M|  Mortgage|          MI|      71737399|XHMQ62339445289593|                Bachelor|           A|       Major Loss|             Police|         0|                      1|            DC|       Washington|                       2|    Troy Caldwell|     1990-10-04|       14 6th Street|               #1|          Medford|       MA|           2155|          12632408|QBSF82653869882343|           Moore Inc|2643 North Sierra...|                null|Fayetteville|          AR|             72703|         0|\n",
            "|     null|AGENT00079|2020-06-01 00:00:00|   TXN00000018|  A00007426|  PLC00000165|   2015-03-25|2020-05-22|2020-05-25|      Property|        157.18|       40000|          Mark Huang|9545 West 74th Av...|         null|     Arvada|   CO|      80005|696-53-5272|             Y| 32|   106|                Y|                   4|                L|  Mortgage|          HI|      47797949|AAET31045958150067|                Bachelor|           A|       Major Loss|             Police|         0|                      1|            AL|       Montgomery|                      14|   Rivka Robinson|     1997-12-11|1008 Rhode Island...|             null|       Washington|       DC|          20001|         119270857|SAHS72824131306931|                null|                null|                null|        null|        null|              null|         0|\n",
            "|VNDR00107|AGENT00994|2020-06-01 00:00:00|   TXN00000019|  A00009265|  PLC00000619|   2017-11-03|2020-05-27|2020-05-28|         Motor|        116.55|        8000|       Marshall Worm|  119 Oakland Street|         null| Manchester|   CT|       6042|848-09-7847|             N| 45|    69|                Y|                   4|                H|  Mortgage|          MI|     117427424|WGFI36482098909043|             High School|           A|       Total Loss|             Police|         0|                      1|            MA|        Fitchburg|                      20|  Geraldine Lopez|     2001-04-30|8380 West 67th Av...|             null|           Arvada|       CO|          80004|         118471806|YLMV72211135178869|Kaiser, Sanford a...|7529 West 72nd Av...|                  #4|      Arvada|          CO|             80003|         0|\n",
            "|     null|AGENT00490|2020-06-01 00:00:00|   TXN00000020|  A00005314|  PLC00001411|   2013-11-08|2020-05-17|2020-05-22|          Life|         77.17|       68000|        Mary Carmona|643 Farragut Stre...|         null| Washington|   DC|      20011|614-24-5584|             Y| 59|   119|                Y|                   5|                M|  Mortgage|          MI|      32494684|GYVA20207571838807|             High School|           A|       Total Loss|             Police|         1|                      1|            CO|           Arvada|                       1|    Kenneth Elmer|     2015-06-12|5222 West Laurie ...|             null|         Glendale|       AZ|          85302|          73241650|MKKM02244049362842|                null|                null|                null|        null|        null|              null|         0|\n",
            "+---------+----------+-------------------+--------------+-----------+-------------+-------------+----------+----------+--------------+--------------+------------+--------------------+--------------------+-------------+-----------+-----+-----------+-----------+--------------+---+------+-----------------+--------------------+-----------------+----------+------------+--------------+------------------+------------------------+------------+-----------------+-------------------+----------+-----------------------+--------------+-----------------+------------------------+-----------------+---------------+--------------------+-----------------+-----------------+---------+---------------+------------------+------------------+--------------------+--------------------+--------------------+------------+------------+------------------+----------+\n",
            "only showing top 20 rows\n",
            "\n"
          ]
        }
      ]
    },
    {
      "cell_type": "markdown",
      "source": [
        "**Task 6**"
      ],
      "metadata": {
        "id": "0iECwhs14gPJ"
      }
    },
    {
      "cell_type": "code",
      "source": [
        "from pyspark.sql.types import DateType\n",
        "df1 = df_join.withColumn(\"TXN_DATE_TIME\",df_join[\"TXN_DATE_TIME\"].cast(DateType()))\n",
        "df1.printSchema()"
      ],
      "metadata": {
        "colab": {
          "base_uri": "https://localhost:8080/"
        },
        "id": "a1QrG4sf85Nu",
        "outputId": "04cb4577-387d-4228-82d7-77621e02003f"
      },
      "execution_count": null,
      "outputs": [
        {
          "output_type": "stream",
          "name": "stdout",
          "text": [
            "root\n",
            " |-- VENDOR_ID: string (nullable = true)\n",
            " |-- AGENT_ID: string (nullable = true)\n",
            " |-- TXN_DATE_TIME: date (nullable = true)\n",
            " |-- TRANSACTION_ID: string (nullable = true)\n",
            " |-- CUSTOMER_ID: string (nullable = true)\n",
            " |-- POLICY_NUMBER: string (nullable = true)\n",
            " |-- POLICY_EFF_DT: string (nullable = true)\n",
            " |-- LOSS_DT: string (nullable = true)\n",
            " |-- REPORT_DT: string (nullable = true)\n",
            " |-- INSURANCE_TYPE: string (nullable = true)\n",
            " |-- PREMIUM_AMOUNT: double (nullable = true)\n",
            " |-- CLAIM_AMOUNT: integer (nullable = true)\n",
            " |-- CUSTOMER_NAME: string (nullable = true)\n",
            " |-- ADDRESS_LINE1: string (nullable = true)\n",
            " |-- ADDRESS_LINE2: string (nullable = true)\n",
            " |-- CITY: string (nullable = true)\n",
            " |-- STATE: string (nullable = true)\n",
            " |-- POSTAL_CODE: integer (nullable = true)\n",
            " |-- SSN: string (nullable = true)\n",
            " |-- MARITAL_STATUS: string (nullable = true)\n",
            " |-- AGE: integer (nullable = true)\n",
            " |-- TENURE: integer (nullable = true)\n",
            " |-- EMPLOYMENT_STATUS: string (nullable = true)\n",
            " |-- NO_OF_FAMILY_MEMBERS: integer (nullable = true)\n",
            " |-- RISK_SEGMENTATION: string (nullable = true)\n",
            " |-- HOUSE_TYPE: string (nullable = true)\n",
            " |-- SOCIAL_CLASS: string (nullable = true)\n",
            " |-- ROUTING_NUMBER: integer (nullable = true)\n",
            " |-- ACCT_NUMBER: string (nullable = true)\n",
            " |-- CUSTOMER_EDUCATION_LEVEL: string (nullable = true)\n",
            " |-- CLAIM_STATUS: string (nullable = true)\n",
            " |-- INCIDENT_SEVERITY: string (nullable = true)\n",
            " |-- AUTHORITY_CONTACTED: string (nullable = true)\n",
            " |-- ANY_INJURY: integer (nullable = true)\n",
            " |-- POLICE_REPORT_AVAILABLE: integer (nullable = true)\n",
            " |-- INCIDENT_STATE: string (nullable = true)\n",
            " |-- INCIDENT_CITY: string (nullable = true)\n",
            " |-- INCIDENT_HOUR_OF_THE_DAY: integer (nullable = true)\n",
            " |-- AGENT_NAME: string (nullable = true)\n",
            " |-- DATE_OF_JOINING: string (nullable = true)\n",
            " |-- EMP_ADDRESS_LINE1: string (nullable = true)\n",
            " |-- EMP_ADDRESS_LINE2: string (nullable = true)\n",
            " |-- EMP_CITY: string (nullable = true)\n",
            " |-- EMP_STATE: string (nullable = true)\n",
            " |-- EMP_POSTAL_CODE: integer (nullable = true)\n",
            " |-- EMP_ROUTING_NUMBER: integer (nullable = true)\n",
            " |-- EMP_ACCT_NUMBER: string (nullable = true)\n",
            " |-- VENDOR_NAME: string (nullable = true)\n",
            " |-- VENDOR_ADDRESS_LINE1: string (nullable = true)\n",
            " |-- VENDOR_ADDRESS_LINE2: string (nullable = true)\n",
            " |-- VENDOR_CITY: string (nullable = true)\n",
            " |-- VENDOR_STATE: string (nullable = true)\n",
            " |-- VENDOR_POSTAL_CODE: integer (nullable = true)\n",
            " |-- COLOCATION: integer (nullable = false)\n",
            "\n"
          ]
        }
      ]
    },
    {
      "cell_type": "code",
      "source": [
        "curr_date = df_join.agg({'TXN_DATE_TIME': 'max'}).collect()[0][0] #Knowing current date"
      ],
      "metadata": {
        "colab": {
          "base_uri": "https://localhost:8080/",
          "height": 35
        },
        "id": "vJB2n8tyP4jT",
        "outputId": "e112a6e8-a27b-4727-d148-e1ef0a2bf3bc"
      },
      "execution_count": null,
      "outputs": [
        {
          "output_type": "execute_result",
          "data": {
            "text/plain": [
              "'2021-06-30 00:00:00'"
            ],
            "application/vnd.google.colaboratory.intrinsic+json": {
              "type": "string"
            }
          },
          "metadata": {},
          "execution_count": 55
        }
      ]
    },
    {
      "cell_type": "code",
      "source": [
        "last_30 = df1.filter((df1.TXN_DATE_TIME > '2021-05-30') & (df1.TXN_DATE_TIME < '2021-06-30'))\n",
        "last_30.show(3)"
      ],
      "metadata": {
        "colab": {
          "base_uri": "https://localhost:8080/"
        },
        "id": "OVLfXdijReMI",
        "outputId": "002e6f26-9f61-4192-edf0-355321f5cbd4"
      },
      "execution_count": null,
      "outputs": [
        {
          "output_type": "stream",
          "name": "stdout",
          "text": [
            "+---------+----------+-------------+--------------+-----------+-------------+-------------+----------+----------+--------------+--------------+------------+-------------+--------------------+-------------+-----------+-----+-----------+-----------+--------------+---+------+-----------------+--------------------+-----------------+----------+------------+--------------+------------------+------------------------+------------+-----------------+-------------------+----------+-----------------------+--------------+-----------------+------------------------+----------------+---------------+------------------+-----------------+----------+---------+---------------+------------------+------------------+--------------------+--------------------+--------------------+-----------+------------+------------------+----------+\n",
            "|VENDOR_ID|  AGENT_ID|TXN_DATE_TIME|TRANSACTION_ID|CUSTOMER_ID|POLICY_NUMBER|POLICY_EFF_DT|   LOSS_DT| REPORT_DT|INSURANCE_TYPE|PREMIUM_AMOUNT|CLAIM_AMOUNT|CUSTOMER_NAME|       ADDRESS_LINE1|ADDRESS_LINE2|       CITY|STATE|POSTAL_CODE|        SSN|MARITAL_STATUS|AGE|TENURE|EMPLOYMENT_STATUS|NO_OF_FAMILY_MEMBERS|RISK_SEGMENTATION|HOUSE_TYPE|SOCIAL_CLASS|ROUTING_NUMBER|       ACCT_NUMBER|CUSTOMER_EDUCATION_LEVEL|CLAIM_STATUS|INCIDENT_SEVERITY|AUTHORITY_CONTACTED|ANY_INJURY|POLICE_REPORT_AVAILABLE|INCIDENT_STATE|    INCIDENT_CITY|INCIDENT_HOUR_OF_THE_DAY|      AGENT_NAME|DATE_OF_JOINING| EMP_ADDRESS_LINE1|EMP_ADDRESS_LINE2|  EMP_CITY|EMP_STATE|EMP_POSTAL_CODE|EMP_ROUTING_NUMBER|   EMP_ACCT_NUMBER|         VENDOR_NAME|VENDOR_ADDRESS_LINE1|VENDOR_ADDRESS_LINE2|VENDOR_CITY|VENDOR_STATE|VENDOR_POSTAL_CODE|COLOCATION|\n",
            "+---------+----------+-------------+--------------+-----------+-------------+-------------+----------+----------+--------------+--------------+------------+-------------+--------------------+-------------+-----------+-----+-----------+-----------+--------------+---+------+-----------------+--------------------+-----------------+----------+------------+--------------+------------------+------------------------+------------+-----------------+-------------------+----------+-----------------------+--------------+-----------------+------------------------+----------------+---------------+------------------+-----------------+----------+---------+---------------+------------------+------------------+--------------------+--------------------+--------------------+-----------+------------+------------------+----------+\n",
            "|VNDR00005|AGENT00257|   2021-05-31|   TXN00009190|  A00004648|  PLC00005883|   2014-12-20|2021-05-28|2021-05-28|      Property|        112.57|       16000|Daniel Alcorn|    243 McKee Street|         null| Manchester|   CT|       6040|461-27-3223|             N| 56|    82|                Y|                   7|                L|       Own|          MI|     112873413|FVEC34770532166235|                Bachelor|           A|       Minor Loss|          Ambulance|         1|                      0|            CT|       Manchester|                       8|      Floyd Ruiz|     2002-06-22|  954 Dowler Drive|             null|    Eureka|       CA|          95501|         114787167|NPRV40932107822625|          Wilson PLC|23 North Hill Street|                null|  Nashville|          TN|             37210|         0|\n",
            "|VNDR00099|AGENT00980|   2021-05-31|   TXN00009191|  A00005798|  PLC00001906|   2015-02-02|2021-05-24|2021-05-26|        Travel|         69.41|        2000|   Lou Fuller|1429 Harrison Avenue|         null|Panama City|   FL|      32401|213-93-8462|             N| 30|    83|                Y|                   2|                M|  Mortgage|          MI|      35359522|EDND43363209579604|                 College|           A|       Major Loss|             Police|         1|                      1|            AZ|         Glendale|                       7|     Gary Stiles|     2011-05-04|119 Oakland Street|             null|Manchester|       CT|           6042|         109301503|EMFD60069652268552|Welch, Keller and...|1820 22nd Street ...|                null| Washington|          DC|             20020|         0|\n",
            "|     null|AGENT00893|   2021-05-31|   TXN00009192|  A00009768|  PLC00000089|   2017-12-21|2021-05-23|2021-05-26|         Motor|          87.4|        5000|Justin Olvera|1431 King George ...|        #21-C|   Savannah|   GA|      31419|189-23-6032|             Y| 36|    91|                Y|                   5|                L|       Own|          LI|      16657696|ZUEK22159112660561|                Bachelor|           A|       Minor Loss|               None|         0|                      0|            FL|Panama City Beach|                       4|Robert Villareal|     2018-01-29| 332 Stafford Road|               #2|Fall River|       MA|           2721|          36004986|IXEZ51619621113989|                null|                null|                null|       null|        null|              null|         0|\n",
            "+---------+----------+-------------+--------------+-----------+-------------+-------------+----------+----------+--------------+--------------+------------+-------------+--------------------+-------------+-----------+-----+-----------+-----------+--------------+---+------+-----------------+--------------------+-----------------+----------+------------+--------------+------------------+------------------------+------------+-----------------+-------------------+----------+-----------------------+--------------+-----------------+------------------------+----------------+---------------+------------------+-----------------+----------+---------+---------------+------------------+------------------+--------------------+--------------------+--------------------+-----------+------------+------------------+----------+\n",
            "only showing top 3 rows\n",
            "\n"
          ]
        }
      ]
    },
    {
      "cell_type": "code",
      "source": [
        "last_30.groupBy(\"INSURANCE_TYPE\").agg(mean(\"CLAIM_AMOUNT\")).show()"
      ],
      "metadata": {
        "colab": {
          "base_uri": "https://localhost:8080/"
        },
        "id": "yn370bjQXdPK",
        "outputId": "8bb35f8b-5dce-41fc-9d0a-4156e96a224d"
      },
      "execution_count": null,
      "outputs": [
        {
          "output_type": "stream",
          "name": "stdout",
          "text": [
            "+--------------+------------------+\n",
            "|INSURANCE_TYPE| avg(CLAIM_AMOUNT)|\n",
            "+--------------+------------------+\n",
            "|         Motor| 5573.770491803279|\n",
            "|          Life|52242.857142857145|\n",
            "|        Travel|            2800.0|\n",
            "|        Health|10904.411764705883|\n",
            "|        Mobile|378.35820895522386|\n",
            "|      Property|24627.906976744187|\n",
            "+--------------+------------------+\n",
            "\n"
          ]
        }
      ]
    },
    {
      "cell_type": "markdown",
      "source": [
        "**Task 7**"
      ],
      "metadata": {
        "id": "3yCb2h9lBG9m"
      }
    },
    {
      "cell_type": "code",
      "source": [
        "spark.sql(\n",
        "\"\"\"\n",
        "SELECT AGENT_ID,COUNT(DISTINCT INSURANCE_TYPE),\n",
        "SUM (CLAIM_AMOUNT) \n",
        "FROM df\n",
        "GROUP BY AGENT_ID\n",
        "HAVING COUNT(DISTINCT INSURANCE_TYPE)>2\n",
        "ORDER BY 3 desc;\n",
        "\"\"\"\n",
        ").show()"
      ],
      "metadata": {
        "colab": {
          "base_uri": "https://localhost:8080/"
        },
        "id": "KkmmCT97BJwy",
        "outputId": "ce9004fe-bd3d-4338-d62d-19d40556f452"
      },
      "execution_count": null,
      "outputs": [
        {
          "output_type": "stream",
          "name": "stdout",
          "text": [
            "+----------+------------------------------+-----------------+\n",
            "|  AGENT_ID|count(DISTINCT INSURANCE_TYPE)|sum(CLAIM_AMOUNT)|\n",
            "+----------+------------------------------+-----------------+\n",
            "|AGENT00807|                             6|           528800|\n",
            "|AGENT00679|                             4|           489000|\n",
            "|AGENT00771|                             5|           422100|\n",
            "|AGENT00125|                             4|           400400|\n",
            "|AGENT00789|                             4|           392900|\n",
            "|AGENT00525|                             6|           385900|\n",
            "|AGENT00319|                             6|           375600|\n",
            "|AGENT00388|                             6|           373800|\n",
            "|AGENT00439|                             5|           370000|\n",
            "|AGENT00482|                             4|           368000|\n",
            "|AGENT00881|                             6|           366400|\n",
            "|AGENT00763|                             5|           361000|\n",
            "|AGENT00914|                             3|           360000|\n",
            "|AGENT00219|                             5|           359500|\n",
            "|AGENT00729|                             5|           358100|\n",
            "|AGENT01094|                             3|           351000|\n",
            "|AGENT01142|                             5|           350000|\n",
            "|AGENT00743|                             5|           339200|\n",
            "|AGENT00920|                             6|           335700|\n",
            "|AGENT00875|                             4|           332000|\n",
            "+----------+------------------------------+-----------------+\n",
            "only showing top 20 rows\n",
            "\n"
          ]
        }
      ]
    },
    {
      "cell_type": "markdown",
      "source": [
        "**Task 8**"
      ],
      "metadata": {
        "id": "SQnnq6f4WuiF"
      }
    },
    {
      "cell_type": "code",
      "source": [
        "df_join.agg({'PREMIUM_AMOUNT': 'sum'}).show()"
      ],
      "metadata": {
        "colab": {
          "base_uri": "https://localhost:8080/"
        },
        "id": "9_o94PyWWw51",
        "outputId": "c9f92244-0104-4deb-d06a-809cc81a4c90"
      },
      "execution_count": null,
      "outputs": [
        {
          "output_type": "stream",
          "name": "stdout",
          "text": [
            "+-------------------+\n",
            "|sum(PREMIUM_AMOUNT)|\n",
            "+-------------------+\n",
            "|  885085.9499999995|\n",
            "+-------------------+\n",
            "\n"
          ]
        }
      ]
    },
    {
      "cell_type": "code",
      "source": [
        "df2 = df_join.withColumn(\"PREMIUM_AMOUNT\", when(df_join.INSURANCE_TYPE == 'Mobile',df_join.PREMIUM_AMOUNT*0.9) \\\n",
        "          .when(df_join.INSURANCE_TYPE == 'Travel',df_join.PREMIUM_AMOUNT*0.9) \\\n",
        "          .when(df_join.INSURANCE_TYPE == 'Health',df_join.PREMIUM_AMOUNT*1.07) \\\n",
        "          .when(df_join.INSURANCE_TYPE == 'Property',df_join.PREMIUM_AMOUNT*1.07) \\\n",
        "          .when(df_join.INSURANCE_TYPE == 'Life',df_join.PREMIUM_AMOUNT*1.02) \\\n",
        "          .when(df_join.INSURANCE_TYPE == 'Motor',df_join.PREMIUM_AMOUNT*1.02) \\\n",
        "          .otherwise(df_join.PREMIUM_AMOUNT))\n",
        "\n",
        "df2.show()"
      ],
      "metadata": {
        "colab": {
          "base_uri": "https://localhost:8080/"
        },
        "id": "rJ2QxGDGjov2",
        "outputId": "7032ffef-6608-497a-8dc5-4dc4dc12a87c"
      },
      "execution_count": null,
      "outputs": [
        {
          "output_type": "stream",
          "name": "stdout",
          "text": [
            "+---------+----------+-------------------+--------------+-----------+-------------+-------------+----------+----------+--------------+------------------+------------+--------------------+--------------------+-------------+-----------+-----+-----------+-----------+--------------+---+------+-----------------+--------------------+-----------------+----------+------------+--------------+------------------+------------------------+------------+-----------------+-------------------+----------+-----------------------+--------------+-----------------+------------------------+-----------------+---------------+--------------------+-----------------+-----------------+---------+---------------+------------------+------------------+--------------------+--------------------+--------------------+------------+------------+------------------+----------+\n",
            "|VENDOR_ID|  AGENT_ID|      TXN_DATE_TIME|TRANSACTION_ID|CUSTOMER_ID|POLICY_NUMBER|POLICY_EFF_DT|   LOSS_DT| REPORT_DT|INSURANCE_TYPE|    PREMIUM_AMOUNT|CLAIM_AMOUNT|       CUSTOMER_NAME|       ADDRESS_LINE1|ADDRESS_LINE2|       CITY|STATE|POSTAL_CODE|        SSN|MARITAL_STATUS|AGE|TENURE|EMPLOYMENT_STATUS|NO_OF_FAMILY_MEMBERS|RISK_SEGMENTATION|HOUSE_TYPE|SOCIAL_CLASS|ROUTING_NUMBER|       ACCT_NUMBER|CUSTOMER_EDUCATION_LEVEL|CLAIM_STATUS|INCIDENT_SEVERITY|AUTHORITY_CONTACTED|ANY_INJURY|POLICE_REPORT_AVAILABLE|INCIDENT_STATE|    INCIDENT_CITY|INCIDENT_HOUR_OF_THE_DAY|       AGENT_NAME|DATE_OF_JOINING|   EMP_ADDRESS_LINE1|EMP_ADDRESS_LINE2|         EMP_CITY|EMP_STATE|EMP_POSTAL_CODE|EMP_ROUTING_NUMBER|   EMP_ACCT_NUMBER|         VENDOR_NAME|VENDOR_ADDRESS_LINE1|VENDOR_ADDRESS_LINE2| VENDOR_CITY|VENDOR_STATE|VENDOR_POSTAL_CODE|COLOCATION|\n",
            "+---------+----------+-------------------+--------------+-----------+-------------+-------------+----------+----------+--------------+------------------+------------+--------------------+--------------------+-------------+-----------+-----+-----------+-----------+--------------+---+------+-----------------+--------------------+-----------------+----------+------------+--------------+------------------+------------------------+------------+-----------------+-------------------+----------+-----------------------+--------------+-----------------+------------------------+-----------------+---------------+--------------------+-----------------+-----------------+---------+---------------+------------------+------------------+--------------------+--------------------+--------------------+------------+------------+------------------+----------+\n",
            "|VNDR00556|AGENT00413|2020-06-01 00:00:00|   TXN00000001|  A00003822|  PLC00008468|   2015-06-23|2020-05-16|2020-05-21|        Health|          168.1291|        9000|Christopher Demarest|7701 West Saint J...|        #2010|   Glendale|   AZ|      85308|087-11-1946|             Y| 54|    89|                Y|                   3|                L|       Own|          LI|     109134974|HXJP58258181908465|                Bachelor|           A|       Major Loss|             Police|         0|                      1|            GA|         Savannah|                       4|      Amy Wangler|     1994-01-06| 584 Rural Hill Road|             null|        Nashville|       TN|          37217|          35441155|LRZO53254369804934|          Ramsey Inc|3114 West 20th Court|                null| Panama City|          FL|             32405|         0|\n",
            "|VNDR00592|AGENT00769|2020-06-01 00:00:00|   TXN00000002|  A00008149|  PLC00009594|   2018-04-21|2020-05-13|2020-05-18|      Property|          151.6297|       26000|      Ricardo Gatlin|8595 West 81st Drive|         null|     Arvada|   CO|      80005|685-33-3536|             N| 61|    80|                Y|                   4|                L|      Rent|          MI|      40125819|JUND46859540983731|                Bachelor|           A|       Total Loss|          Ambulance|         1|                      0|            AL|       Montgomery|                       0|   Jessica Montez|     2004-05-28|6114 West Glenn D...|               #1|         Glendale|       AZ|          85301|          44055451|XBYG14382904542874|Morales, Campbell...|42 West Louise St...|                   B|Fayetteville|          AR|             72701|         0|\n",
            "|VNDR00031|AGENT00883|2020-06-01 00:00:00|   TXN00000003|  A00003172|  PLC00007969|   2019-10-03|2020-05-21|2020-05-26|      Property|          168.2468|       13000|      Lashawn Engles| 637 Britannia Drive|         null|    Vallejo|   CA|      94591|378-36-0672|             N| 47|    68|                Y|                   6|                L|      Rent|          MI|      99513168|WGZZ90128415227650|                     PhD|           A|       Total Loss|             Police|         0|                      1|            CO|   Grand Junction|                      19|     Howard Smith|     2004-08-01|2500 Snowdoun Cha...|             null|       Montgomery|       AL|          36105|          55770246|WRXH14597428306333|         Johnson Ltd|2619 North Qualit...|                #315|Fayetteville|          AR|             72703|         0|\n",
            "|VNDR00075|AGENT00278|2020-06-01 00:00:00|   TXN00000004|  A00007572|  PLC00009292|   2016-11-29|2020-05-14|2020-05-19|        Health|184.97090000000003|       16000|      Steven Bassett|    2803 River Drive|         null|Thunderbolt|   GA|      31404|669-92-1861|             Y| 36|    16|                Y|                   7|                L|  Mortgage|          MI|      18429110|WIKE91555436351397|                 Masters|           A|       Minor Loss|          Ambulance|         0|                      0|            GA|         Savannah|                      12|  Patricia Tucker|     2007-06-12|  313 Lone Oak Drive|             null|           Norman|       OK|          73071|          87652976|YEPN16077902472499|    Blackwell-Foster|   3609 Meadow Drive|                null|   Nashville|          TN|             37215|         0|\n",
            "|VNDR00472|AGENT00636|2020-06-01 00:00:00|   TXN00000005|  A00008173|  PLC00000204|   2011-12-26|2020-05-17|2020-05-22|        Travel|            79.677|        3000|     Jason Rodriguez| 7573 National Drive|         null|  Livermore|   CA|      94550|703-40-1033|             Y| 51|    16|                Y|                   2|                M|      Rent|          HI|      70752391|VYJW71311537294027|                 Masters|           A|       Major Loss|             Police|         0|                      1|            TN|        Nashville|                      18|      Brenda Bean|     2010-01-19|    120 Wells Avenue|             null|      Glen Burnie|       MD|          21061|          76119019|HZBK86544578578547|         Evans-Scott|4001 19th Place N...|                null|  Washington|          DC|             20018|         0|\n",
            "|     null|AGENT00402|2020-06-01 00:00:00|   TXN00000006|  A00003571|  PLC00007244|   2012-12-28|2020-05-20|2020-05-25|          Life|           88.7604|       63000|        Terrance Han|5275 North 59th A...|         null|   Glendale|   AZ|      85301|059-08-4065|             N| 42|    38|                Y|                   2|                M|      Rent|          MI|     124246313|TMDB19464299963687|                 College|           A|       Major Loss|             Police|         0|                      1|            AZ|         Glendale|                       0|  Luciano Jackson|     2009-08-01|10826 Pointe Roya...|             null|      Bakersfield|       CA|          93311|          35911575|VHQA45663806811975|                null|                null|                null|        null|        null|              null|         0|\n",
            "|VNDR00150|AGENT00322|2020-06-01 00:00:00|   TXN00000007|  A00007245|  PLC00002796|   2012-10-26|2020-05-13|2020-05-18|        Health|          211.0361|        3000|      Dennis Johnson|    5119 Marla Drive|         null|Panama City|   FL|      32404|539-25-2348|             Y| 61|    20|                Y|                   7|                L|      Rent|          MI|      72461648|ZCMU49563664563577|                      NA|           A|       Major Loss|             Police|         1|                      1|            CT|       Manchester|                      10|     Edgar Talley|     2013-06-02|       44 Elm Street|             null|  East Longmeadow|       MA|           1028|          29678921|FBBJ92261917454231|          Moreno LLC|  1261 Sioux Terrace|                null|   Nashville|          TN|             37115|         0|\n",
            "|VNDR00326|AGENT00152|2020-06-01 00:00:00|   TXN00000008|  A00004301|  PLC00002925|   2018-12-30|2020-05-14|2020-05-19|         Motor| 85.44539999999999|        8000|  Maryalice Martinez|6 Little Country ...|         null|   Savannah|   GA|      31406|791-66-5539|             Y| 35|    97|                Y|                   3|                L|      Rent|          MI|      89467431|ZLMN59372702463649|             High School|           A|       Total Loss|             Police|         0|                      1|            FL|Panama City Beach|                      10|      John Hensel|     1995-11-11|10124 Watsonville...|             null|       Louisville|       KY|          40272|          51435255|UVWP07029161363261|         Stewart Ltd|1729 Frankford St...|                null|  Washington|          DC|             20020|         0|\n",
            "|VNDR00437|AGENT00450|2020-06-01 00:00:00|   TXN00000009|  A00004671|  PLC00006886|   2019-06-27|2020-05-21|2020-05-26|         Motor| 83.78280000000001|        5000|   Nicholas Hamilton|642 South 2nd Street|         #608| Louisville|   KY|      40202|427-41-7221|             N| 27|   118|                Y|                   4|                H|  Mortgage|          MI|     107890252|EVZR61264221554624|                Bachelor|           A|       Major Loss|             Police|         0|                      1|            AZ|         Glendale|                      22|     Peter Thomas|     2017-10-12|1010 M Street Nor...|             null|       Washington|       DC|          20001|          92228117|VHVZ90875461509264|          Hanson Inc|910 Arlington Ter...|                null|Fayetteville|          AR|             72701|         0|\n",
            "|     null|AGENT00682|2020-06-01 00:00:00|   TXN00000010|  A00002020|  PLC00007657|   2015-12-19|2020-05-15|2020-05-20|        Travel|            64.161|        4000|  Nicholas Honokaupu|1914 Stratford Do...|         null| Montgomery|   AL|      36117|722-69-3392|             Y| 61|   119|                Y|                   4|                L|      Rent|          HI|      16215148|UXQB38236110828938|                     PhD|           A|       Major Loss|               None|         0|                      0|            CA|      San Leandro|                       4|    Michael Ortiz|     2000-08-10|4221 Thompson Avenue|            APT C|        Anchorage|       AK|          99508|          28122449|GETW44783556180552|                null|                null|                null|        null|        null|              null|         0|\n",
            "|VNDR00163|AGENT01091|2020-06-01 00:00:00|   TXN00000011|  A00007952|  PLC00003007|   2019-03-30|2020-05-20|2020-05-25|          Life|            62.679|       92000|         Janet Watts|    200 Redwood Road|         null| Manchester|   CT|       6040|233-66-3524|             N| 59|    14|                Y|                   7|                M|  Mortgage|          MI|      58804083|CQZQ73037026635053|                 Masters|           A|       Major Loss|             Police|         1|                      1|            MD|          Crofton|                      23|     Joshua Losey|     2004-10-09|2246 West Fairvie...|             null|       Montgomery|       AL|          36108|         123461076|YIAT74328087165676|      Foster-Sanchez| 4255 Tanager Common|                null|     Fremont|          CA|             94555|         0|\n",
            "|     null|AGENT00288|2020-06-01 00:00:00|   TXN00000012|  A00006313|  PLC00002139|   2016-07-22|2020-05-21|2020-05-26|         Motor|           103.173|        8000|    Patricia Garrett|   6721 Boundary Run|         null|  Nashville|   TN|      37221|224-80-1633|             Y| 42|    39|                Y|                   2|                H|       Own|          HI|      11697253|YGZM08271540598654|             High School|           D|       Major Loss|             Police|         1|                      1|            CT|       Manchester|                       3|   Michael Fowler|     2002-10-08|1500 South Divisi...|             null|          Guthrie|       OK|          73044|          73263191|GBXZ93703464051375|                null|                null|                null|        null|        null|              null|         0|\n",
            "|VNDR00191|AGENT00015|2020-06-01 00:00:00|   TXN00000013|  A00003693|  PLC00007839|   2019-06-12|2020-05-24|2020-05-27|        Health|          169.0065|       11000|        Lisa Rosario|12870 Old Seward ...|  #STE 000105|  Anchorage|   AK|      99515|115-30-1247|             Y| 57|   118|                Y|                   3|                M|  Mortgage|          LI|      74438433|NAUY34845981013549|                Bachelor|           A|       Major Loss|             Police|         0|                      1|            KY|       Louisville|                      22|   Charles George|     1998-01-31|4717 Forest Hills...|             null|            Noble|       OK|          73068|         112506777|PEUK68232037630713|   Armstrong-Ramirez|    200 Boulder Road|                null|  Manchester|          CT|              6040|         0|\n",
            "|     null|AGENT01094|2020-06-01 00:00:00|   TXN00000014|  A00007988|  PLC00002521|   2020-01-29|2020-05-18|2020-05-23|          Life|           65.4432|       51000|  Felicita Stoughton|     110 Oxford Road|         null|   Savannah|   GA|      31419|170-28-1062|             N| 31|   118|                Y|                   7|                L|       Own|          LI|      64537739|GIOA39230059052323|             High School|           A|       Total Loss|          Ambulance|         1|                      0|            AK|        Anchorage|                       0|   Robert Venable|     1997-04-15|3949 Ethan Allen ...|             null|Saint Albans City|       VT|           5478|          69952254|TOGM23655710729269|                null|                null|                null|        null|        null|              null|         0|\n",
            "|VNDR00135|AGENT00324|2020-06-01 00:00:00|   TXN00000015|  A00005617|  PLC00007011|   2015-06-08|2020-05-20|2020-05-25|        Mobile|             6.084|         700|    David Pennington|          210 Seaman|         null|    McCrory|   AR|      72101|519-11-2464|             Y| 55|    90|                Y|                   6|                L|  Mortgage|          HI|      93703880|LDQH95350551363442|                     PhD|           A|       Major Loss|             Police|         1|                      1|            CO|           Arvada|                      11|Barbara Hernandez|     1994-12-13|105 Ridgecrest Court|             null|      Panama City|       FL|          32405|          80018643|JANY27171527955107|        Shields-Bush|740 East 34th Street|                null|    Savannah|          GA|             31401|         0|\n",
            "|VNDR00051|AGENT00608|2020-06-01 00:00:00|   TXN00000016|  A00008033|  PLC00008152|   2011-01-25|2020-05-12|2020-05-17|         Motor|          131.3046|        9000|     William Halcomb|5124 E Street Sou...|         null| Washington|   DC|      20019|142-09-4530|             Y| 57|    48|                Y|                   2|                L|      Rent|          LI|     115671968|KNLE94705483907630|                      NA|           A|       Minor Loss|             Police|         0|                      1|            AR|     Fayetteville|                      22|    Renee Zaldana|     2015-02-24|     61 Callahan Way|              #B4|    Mammoth Lakes|       CA|          93546|          28869605|NSVP36826783847299|      Roberts-Garcia|6624 Strawberry Lane|                null|  Louisville|          KY|             40214|         0|\n",
            "|VNDR00238|AGENT00911|2020-06-01 00:00:00|   TXN00000017|  A00007184|  PLC00000118|   2014-04-17|2020-05-13|2020-05-18|      Property|122.42940000000002|       39000|     Michael Kimball|      42 Edison Road|         null| Manchester|   CT|       6040|448-54-0272|             Y| 53|    19|                Y|                   5|                M|  Mortgage|          MI|      71737399|XHMQ62339445289593|                Bachelor|           A|       Major Loss|             Police|         0|                      1|            DC|       Washington|                       2|    Troy Caldwell|     1990-10-04|       14 6th Street|               #1|          Medford|       MA|           2155|          12632408|QBSF82653869882343|           Moore Inc|2643 North Sierra...|                null|Fayetteville|          AR|             72703|         0|\n",
            "|     null|AGENT00079|2020-06-01 00:00:00|   TXN00000018|  A00007426|  PLC00000165|   2015-03-25|2020-05-22|2020-05-25|      Property|          168.1826|       40000|          Mark Huang|9545 West 74th Av...|         null|     Arvada|   CO|      80005|696-53-5272|             Y| 32|   106|                Y|                   4|                L|  Mortgage|          HI|      47797949|AAET31045958150067|                Bachelor|           A|       Major Loss|             Police|         0|                      1|            AL|       Montgomery|                      14|   Rivka Robinson|     1997-12-11|1008 Rhode Island...|             null|       Washington|       DC|          20001|         119270857|SAHS72824131306931|                null|                null|                null|        null|        null|              null|         0|\n",
            "|VNDR00107|AGENT00994|2020-06-01 00:00:00|   TXN00000019|  A00009265|  PLC00000619|   2017-11-03|2020-05-27|2020-05-28|         Motor|           118.881|        8000|       Marshall Worm|  119 Oakland Street|         null| Manchester|   CT|       6042|848-09-7847|             N| 45|    69|                Y|                   4|                H|  Mortgage|          MI|     117427424|WGFI36482098909043|             High School|           A|       Total Loss|             Police|         0|                      1|            MA|        Fitchburg|                      20|  Geraldine Lopez|     2001-04-30|8380 West 67th Av...|             null|           Arvada|       CO|          80004|         118471806|YLMV72211135178869|Kaiser, Sanford a...|7529 West 72nd Av...|                  #4|      Arvada|          CO|             80003|         0|\n",
            "|     null|AGENT00490|2020-06-01 00:00:00|   TXN00000020|  A00005314|  PLC00001411|   2013-11-08|2020-05-17|2020-05-22|          Life| 78.71340000000001|       68000|        Mary Carmona|643 Farragut Stre...|         null| Washington|   DC|      20011|614-24-5584|             Y| 59|   119|                Y|                   5|                M|  Mortgage|          MI|      32494684|GYVA20207571838807|             High School|           A|       Total Loss|             Police|         1|                      1|            CO|           Arvada|                       1|    Kenneth Elmer|     2015-06-12|5222 West Laurie ...|             null|         Glendale|       AZ|          85302|          73241650|MKKM02244049362842|                null|                null|                null|        null|        null|              null|         0|\n",
            "+---------+----------+-------------------+--------------+-----------+-------------+-------------+----------+----------+--------------+------------------+------------+--------------------+--------------------+-------------+-----------+-----+-----------+-----------+--------------+---+------+-----------------+--------------------+-----------------+----------+------------+--------------+------------------+------------------------+------------+-----------------+-------------------+----------+-----------------------+--------------+-----------------+------------------------+-----------------+---------------+--------------------+-----------------+-----------------+---------+---------------+------------------+------------------+--------------------+--------------------+--------------------+------------+------------+------------------+----------+\n",
            "only showing top 20 rows\n",
            "\n"
          ]
        }
      ]
    },
    {
      "cell_type": "code",
      "source": [
        "df2.agg({'PREMIUM_AMOUNT': 'sum'}).show()"
      ],
      "metadata": {
        "colab": {
          "base_uri": "https://localhost:8080/"
        },
        "id": "UtZXfkbhrTsH",
        "outputId": "3f7c8746-2dbc-4f28-fc6a-4a884b38998a"
      },
      "execution_count": null,
      "outputs": [
        {
          "output_type": "stream",
          "name": "stdout",
          "text": [
            "+-------------------+\n",
            "|sum(PREMIUM_AMOUNT)|\n",
            "+-------------------+\n",
            "|  908805.0041999974|\n",
            "+-------------------+\n",
            "\n"
          ]
        }
      ]
    },
    {
      "cell_type": "code",
      "source": [
        "a = df_join.agg({'PREMIUM_AMOUNT': 'sum'}).collect()[0][0]\n",
        "b = df2.agg({'PREMIUM_AMOUNT': 'sum'}).collect()[0][0]\n",
        "perc_change = ((b-a)/a)*100\n",
        "perc_change"
      ],
      "metadata": {
        "colab": {
          "base_uri": "https://localhost:8080/"
        },
        "id": "fdauBXZ5uSjj",
        "outputId": "ec49883c-e437-4d86-a7aa-643e0976c315"
      },
      "execution_count": null,
      "outputs": [
        {
          "output_type": "execute_result",
          "data": {
            "text/plain": [
              "2.679858854385603"
            ]
          },
          "metadata": {},
          "execution_count": 29
        }
      ]
    },
    {
      "cell_type": "markdown",
      "source": [
        "**Task 9**"
      ],
      "metadata": {
        "id": "qeQ7JlAvwC3I"
      }
    },
    {
      "cell_type": "code",
      "source": [
        "df_join = df_join.withColumn(\n",
        "    'ELIGIBLE_FOR_DISCOUNT',\n",
        "    f.when((f.col(\"TENURE\") > 60) & (f.col(\"EMPLOYMENT_STATUS\") == 'N') & (f.col(\"NO_OF_FAMILY_MEMBERS\") >= 4), 1)\\\n",
        "    .otherwise(0)\n",
        ")\n"
      ],
      "metadata": {
        "id": "TjJ1t-brwFN5"
      },
      "execution_count": null,
      "outputs": []
    },
    {
      "cell_type": "code",
      "source": [
        "df_join.agg({'ELIGIBLE_FOR_DISCOUNT': 'mean'}).show()"
      ],
      "metadata": {
        "colab": {
          "base_uri": "https://localhost:8080/"
        },
        "id": "IUnyqKMCyCJl",
        "outputId": "4a69e1ca-5276-483c-eb4f-71417ab22938"
      },
      "execution_count": null,
      "outputs": [
        {
          "output_type": "stream",
          "name": "stdout",
          "text": [
            "+--------------------------+\n",
            "|avg(ELIGIBLE_FOR_DISCOUNT)|\n",
            "+--------------------------+\n",
            "|                    0.0299|\n",
            "+--------------------------+\n",
            "\n"
          ]
        }
      ]
    },
    {
      "cell_type": "markdown",
      "source": [
        "**Task 11**"
      ],
      "metadata": {
        "id": "5G74NCgvIam7"
      }
    },
    {
      "cell_type": "code",
      "source": [
        "spark.sql(\n",
        "\"\"\"\n",
        "SELECT AGENT_ID, \n",
        "SUM (CLAIM_AMOUNT),\n",
        "PERCENT_RANK () over (ORDER BY SUM(CLAIM_AMOUNT))*100 as Percentile\n",
        "FROM df\n",
        "GROUP BY AGENT_ID\n",
        "\"\"\"\n",
        ").show(5)"
      ],
      "metadata": {
        "colab": {
          "base_uri": "https://localhost:8080/"
        },
        "id": "SS9WA2OPIdS9",
        "outputId": "615bcf75-0e80-4bf8-ae17-046e6b731612"
      },
      "execution_count": null,
      "outputs": [
        {
          "output_type": "stream",
          "name": "stdout",
          "text": [
            "+----------+-----------------+-------------------+\n",
            "|  AGENT_ID|sum(CLAIM_AMOUNT)|         Percentile|\n",
            "+----------+-----------------+-------------------+\n",
            "|AGENT01154|              800|                0.0|\n",
            "|AGENT01077|             4200|0.08340283569641367|\n",
            "|AGENT00621|             5300|0.16680567139282734|\n",
            "|AGENT00604|             5500|0.25020850708924103|\n",
            "|AGENT01037|             5600| 0.3336113427856547|\n",
            "+----------+-----------------+-------------------+\n",
            "only showing top 5 rows\n",
            "\n"
          ]
        }
      ]
    },
    {
      "cell_type": "markdown",
      "source": [
        "**Task 12**"
      ],
      "metadata": {
        "id": "ydMuaiA2QV1C"
      }
    },
    {
      "cell_type": "code",
      "source": [
        "df3 = df_join.filter((df_join.CLAIM_STATUS == 'A') & (df_join.RISK_SEGMENTATION == 'H') & (df_join.INCIDENT_SEVERITY == 'Major Loss'))\n",
        "df3.show(5)"
      ],
      "metadata": {
        "colab": {
          "base_uri": "https://localhost:8080/"
        },
        "id": "exwcy2v5QYM0",
        "outputId": "909bb38f-fb01-4fab-94e2-69e8ac0eddb7"
      },
      "execution_count": null,
      "outputs": [
        {
          "output_type": "stream",
          "name": "stdout",
          "text": [
            "+---------+----------+-------------------+--------------+-----------+-------------+-------------+----------+----------+--------------+--------------+------------+-------------------+--------------------+-------------+----------+-----+-----------+-----------+--------------+---+------+-----------------+--------------------+-----------------+----------+------------+--------------+------------------+------------------------+------------+-----------------+-------------------+----------+-----------------------+--------------+-------------+------------------------+-----------------+---------------+--------------------+-----------------+---------------+---------+---------------+------------------+------------------+--------------------+--------------------+--------------------+------------+------------+------------------+----------+---------------------+\n",
            "|VENDOR_ID|  AGENT_ID|      TXN_DATE_TIME|TRANSACTION_ID|CUSTOMER_ID|POLICY_NUMBER|POLICY_EFF_DT|   LOSS_DT| REPORT_DT|INSURANCE_TYPE|PREMIUM_AMOUNT|CLAIM_AMOUNT|      CUSTOMER_NAME|       ADDRESS_LINE1|ADDRESS_LINE2|      CITY|STATE|POSTAL_CODE|        SSN|MARITAL_STATUS|AGE|TENURE|EMPLOYMENT_STATUS|NO_OF_FAMILY_MEMBERS|RISK_SEGMENTATION|HOUSE_TYPE|SOCIAL_CLASS|ROUTING_NUMBER|       ACCT_NUMBER|CUSTOMER_EDUCATION_LEVEL|CLAIM_STATUS|INCIDENT_SEVERITY|AUTHORITY_CONTACTED|ANY_INJURY|POLICE_REPORT_AVAILABLE|INCIDENT_STATE|INCIDENT_CITY|INCIDENT_HOUR_OF_THE_DAY|       AGENT_NAME|DATE_OF_JOINING|   EMP_ADDRESS_LINE1|EMP_ADDRESS_LINE2|       EMP_CITY|EMP_STATE|EMP_POSTAL_CODE|EMP_ROUTING_NUMBER|   EMP_ACCT_NUMBER|         VENDOR_NAME|VENDOR_ADDRESS_LINE1|VENDOR_ADDRESS_LINE2| VENDOR_CITY|VENDOR_STATE|VENDOR_POSTAL_CODE|COLOCATION|ELIGIBLE_FOR_DISCOUNT|\n",
            "+---------+----------+-------------------+--------------+-----------+-------------+-------------+----------+----------+--------------+--------------+------------+-------------------+--------------------+-------------+----------+-----+-----------+-----------+--------------+---+------+-----------------+--------------------+-----------------+----------+------------+--------------+------------------+------------------------+------------+-----------------+-------------------+----------+-----------------------+--------------+-------------+------------------------+-----------------+---------------+--------------------+-----------------+---------------+---------+---------------+------------------+------------------+--------------------+--------------------+--------------------+------------+------------+------------------+----------+---------------------+\n",
            "|VNDR00437|AGENT00450|2020-06-01 00:00:00|   TXN00000009|  A00004671|  PLC00006886|   2019-06-27|2020-05-21|2020-05-26|         Motor|         82.14|        5000|  Nicholas Hamilton|642 South 2nd Street|         #608|Louisville|   KY|      40202|427-41-7221|             N| 27|   118|                Y|                   4|                H|  Mortgage|          MI|     107890252|EVZR61264221554624|                Bachelor|           A|       Major Loss|             Police|         0|                      1|            AZ|     Glendale|                      22|     Peter Thomas|     2017-10-12|1010 M Street Nor...|             null|     Washington|       DC|          20001|          92228117|VHVZ90875461509264|          Hanson Inc|910 Arlington Ter...|                null|Fayetteville|          AR|             72701|         0|                    0|\n",
            "|VNDR00521|AGENT00935|2020-06-03 00:00:00|   TXN00000076|  A00009078|  PLC00001505|   2014-08-15|2020-05-17|2020-05-22|          Life|         67.88|       59000|     Eileen Svoboda|   201 Lee Boulevard|         null|  Savannah|   GA|      31405|419-57-7880|             Y| 50|    34|                Y|                   4|                H|       Own|          HI|      13266284|LPRW62498784186262|                Bachelor|           A|       Major Loss|             Police|         1|                      1|            CO|  Wheat Ridge|                      19|      Adam Villar|     2009-05-18|6315 North Oro Vi...|             null|Litchfield Park|       AZ|          85340|          33697833|FMCB37381150648042|Gordon, Young and...|      82 Queen Court|                null|  Manchester|          CT|              6040|         0|                    0|\n",
            "|VNDR00488|AGENT00210|2020-06-03 00:00:00|   TXN00000077|  A00000804|  PLC00006719|   2011-07-09|2020-05-14|2020-05-19|          Life|         68.72|       60000|    William Zeigler|1907 18th Avenue ...|         null| Nashville|   TN|      37212|712-50-7492|             Y| 32|    85|                Y|                   7|                H|      Rent|          MI|      57251080|OKLJ47377309574939|             High School|           A|       Major Loss|             Police|         1|                      1|            CA|    Livermore|                       5|     Susan Morace|     2011-04-21|3138 Banneker Dri...|             null|     Washington|       DC|          20018|          67659753|BMAQ41191552040977|       Walker-Ingram|     4770 Balboa Way|                null|     Fremont|          CA|             94536|         0|                    0|\n",
            "|VNDR00251|AGENT00474|2020-06-04 00:00:00|   TXN00000093|  A00007477|  PLC00008821|   2015-06-05|2020-05-23|2020-05-28|        Health|        116.27|        7000|  Anthony Carpenter|178 Old Homestead...|         null|  Danville|   VT|       5873|653-32-2994|             Y| 60|   119|                Y|                   3|                H|       Own|          HI|      96851302|XWLE56259722141004|             High School|           A|       Major Loss|             Police|         1|                      1|            CA|      Oakland|                       7|Antoinette Rehkop|     2003-04-05|   1 Portsmouth Road|             null|       Piedmont|       CA|          94610|          58706314|IGXL71581076733788|         Sanchez LLC|   154 Lyness Street|                null|  Manchester|          CT|              6040|         0|                    0|\n",
            "|     null|AGENT00011|2020-06-04 00:00:00|   TXN00000100|  A00007283|  PLC00001227|   2014-09-25|2020-05-30|2020-05-31|        Mobile|         11.34|         200|Chester Castleberry|  5630 Silverado Way|      #STE A8| Anchorage|   AK|      99518|808-58-3958|             Y| 60|    77|                Y|                   5|                H|      Rent|          LI|      42321365|UVBS97445040414690|             High School|           A|       Major Loss|          Ambulance|         1|                      0|            CA|    Cupertino|                      13|   Nancy Coronado|     2002-01-31|357 Chaplin Stree...|             null|     Washington|       DC|          20019|          28574903|CEIG07819775081568|                null|                null|                null|        null|        null|              null|         0|                    0|\n",
            "+---------+----------+-------------------+--------------+-----------+-------------+-------------+----------+----------+--------------+--------------+------------+-------------------+--------------------+-------------+----------+-----+-----------+-----------+--------------+---+------+-----------------+--------------------+-----------------+----------+------------+--------------+------------------+------------------------+------------+-----------------+-------------------+----------+-----------------------+--------------+-------------+------------------------+-----------------+---------------+--------------------+-----------------+---------------+---------+---------------+------------------+------------------+--------------------+--------------------+--------------------+------------+------------+------------------+----------+---------------------+\n",
            "only showing top 5 rows\n",
            "\n"
          ]
        }
      ]
    },
    {
      "cell_type": "code",
      "source": [
        "df3.createOrReplaceTempView(\"df_3\")"
      ],
      "metadata": {
        "id": "QW4W6vKC4ah5"
      },
      "execution_count": null,
      "outputs": []
    },
    {
      "cell_type": "code",
      "source": [
        "suspicious = spark.sql(\n",
        "\"\"\"\n",
        "select AGENT_ID, SUM(CLAIM_AMOUNT) as Total_Claim_Amount\n",
        "from df_3\n",
        "GROUP BY AGENT_ID\n",
        "\"\"\"\n",
        ")"
      ],
      "metadata": {
        "id": "LFDtfHho6VZA"
      },
      "execution_count": null,
      "outputs": []
    },
    {
      "cell_type": "code",
      "source": [
        "suspicious.show(5)"
      ],
      "metadata": {
        "colab": {
          "base_uri": "https://localhost:8080/"
        },
        "id": "ofwCc2Qd7nbu",
        "outputId": "fa6eb34c-6e14-4b17-d0ed-9b483aaaf249"
      },
      "execution_count": null,
      "outputs": [
        {
          "output_type": "stream",
          "name": "stdout",
          "text": [
            "+----------+------------------+\n",
            "|  AGENT_ID|Total_Claim_Amount|\n",
            "+----------+------------------+\n",
            "|AGENT00514|              5000|\n",
            "|AGENT01019|              2000|\n",
            "|AGENT00315|             39400|\n",
            "|AGENT00739|             18000|\n",
            "|AGENT01020|             78000|\n",
            "+----------+------------------+\n",
            "only showing top 5 rows\n",
            "\n"
          ]
        }
      ]
    },
    {
      "cell_type": "code",
      "source": [
        "suspicious = suspicious.withColumn(\n",
        "    'IS_SUSP',\n",
        "    f.when(f.col(\"Total_Claim_Amount\") >= 15000, 1)\\\n",
        "    .otherwise(0)\n",
        ")\n",
        "\n",
        "suspicious.show(5)"
      ],
      "metadata": {
        "colab": {
          "base_uri": "https://localhost:8080/"
        },
        "id": "4EGoD1Ne73nO",
        "outputId": "3ed8a4d7-8f65-49d2-9ed3-982ce9e21da9"
      },
      "execution_count": null,
      "outputs": [
        {
          "output_type": "stream",
          "name": "stdout",
          "text": [
            "+----------+------------------+-------+\n",
            "|  AGENT_ID|Total_Claim_Amount|IS_SUSP|\n",
            "+----------+------------------+-------+\n",
            "|AGENT00514|              5000|      0|\n",
            "|AGENT01019|              2000|      0|\n",
            "|AGENT00315|             39400|      1|\n",
            "|AGENT00739|             18000|      1|\n",
            "|AGENT01020|             78000|      1|\n",
            "+----------+------------------+-------+\n",
            "only showing top 5 rows\n",
            "\n"
          ]
        }
      ]
    },
    {
      "cell_type": "code",
      "source": [
        "suspicious.agg({'IS_SUSP': 'mean'}).show()"
      ],
      "metadata": {
        "colab": {
          "base_uri": "https://localhost:8080/"
        },
        "id": "ieFGNi959LW8",
        "outputId": "d4b05ea1-4ecb-44b4-b9a8-0a842a8f71ca"
      },
      "execution_count": null,
      "outputs": [
        {
          "output_type": "stream",
          "name": "stdout",
          "text": [
            "+------------------+\n",
            "|      avg(IS_SUSP)|\n",
            "+------------------+\n",
            "|0.4269340974212034|\n",
            "+------------------+\n",
            "\n"
          ]
        }
      ]
    }
  ]
}